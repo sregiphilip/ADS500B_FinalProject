{
 "cells": [
  {
   "cell_type": "markdown",
   "id": "789be157",
   "metadata": {},
   "source": [
    "### ADS 500B - Final Project - Group 6\n",
    "#### Sanjay Regi Philip, Maha Jayapal, Luke Hiura"
   ]
  },
  {
   "cell_type": "markdown",
   "id": "bb32a003",
   "metadata": {},
   "source": [
    "#### Library and File Import"
   ]
  },
  {
   "cell_type": "markdown",
   "id": "2ddfe8f7",
   "metadata": {},
   "source": [
    "Module: Library Import <br>\n",
    "Purpose: To import the neceassary libraries to use for EDA and Analysis <br>\n",
    "Last Updated by Sanjay - 8/5 at 7pm <br>\n",
    "Previously Updated by: blank <br>"
   ]
  },
  {
   "cell_type": "code",
   "execution_count": 1,
   "id": "c894fdb6",
   "metadata": {},
   "outputs": [],
   "source": [
    "import numpy as np\n",
    "import pandas as pd\n",
    "import matplotlib as mpl \n",
    "import matplotlib.pyplot as plt \n",
    "import seaborn as sns\n",
    "import scipy\n",
    "import statsmodels.api as sm\n",
    "from statsmodels.stats.outliers_influence import variance_inflation_factor\n",
    "from sklearn.linear_model import LinearRegression"
   ]
  },
  {
   "cell_type": "markdown",
   "id": "2a136bb0",
   "metadata": {},
   "source": [
    "##### Module: File Import<br>\n",
    "Purpose: To import the data file, Dataset 2, provided in the Final Project instructions<br>\n",
    "Last Updated by Sanjay - 8/5 at 7pm <br>\n",
    "Previously Updated by: blank <br>"
   ]
  },
  {
   "cell_type": "code",
   "execution_count": 2,
   "id": "932715ba",
   "metadata": {},
   "outputs": [
    {
     "data": {
      "text/plain": [
       "(21613, 21)"
      ]
     },
     "execution_count": 2,
     "metadata": {},
     "output_type": "execute_result"
    }
   ],
   "source": [
    "## Use Pandas read function\n",
    "## Remember to change filepath to your machine\n",
    "house_df = pd.read_csv('/Users/sanjayregiphilip/OneDrive/DS/ADS_500B/Final Project/house_sales.csv' , header = 0)\n",
    "\n",
    "#make sure file was read properly\n",
    "house_df.head()\n",
    "house_df.shape"
   ]
  },
  {
   "cell_type": "markdown",
   "id": "849e96ad",
   "metadata": {},
   "source": [
    "### Data PreProcessing"
   ]
  },
  {
   "cell_type": "markdown",
   "id": "0a811afc",
   "metadata": {},
   "source": [
    "##### Dataset and information regarding each notation <br>\n",
    "\n",
    "This dataset contains house sale prices for King County, which includes Seattle. <br>\n",
    "\n",
    "It includes homes sold between May 2014 and May 2015. <br>\n",
    "\n",
    "##### Description of variables: <br>\n",
    "\n",
    "id: a notation for a house <br>\n",
    "date: Date house was sold <br>\n",
    "price: Price is prediction target <br>\n",
    "bedrooms: Number of Bedrooms/House <br>\n",
    "bathrooms: Number of bathrooms/bedrooms <br>\n",
    "sqft_living: square footage of the home <br>\n",
    "sqft_lot: square footage of the lot <br>\n",
    "floors: Total floors (levels) in house <br>\n",
    "waterfront: House which has a view to a waterfront <br>\n",
    "view: Has been viewed <br>\n",
    "condition: How good the condition is Overall <br>\n",
    "grade: overall grade given to the housing unit, based on King County grading system <br>\n",
    "sqft_above: square footage of house apart from basement <br>\n",
    "sqft_basement: square footage of the basement <br>\n",
    "yr_built: Built Year <br>\n",
    "yr_renovated: Year when house was renovated <br>\n",
    "zipcode: zip code <br>\n",
    "lat: Latitude coordinate <br>\n",
    "long: Longitude coordinate <br>\n",
    "sqft_living15: Living room area in 2015(implies-- some renovations) This might or might not have affected the lotsize area <br>\n",
    "sqft_lot15: lotSize area in 2015(implies-- some renovations) <br>"
   ]
  },
  {
   "cell_type": "markdown",
   "id": "ca0930fe",
   "metadata": {},
   "source": [
    "##### Module: Date Processing<br>\n",
    "Purpose: Ensure that the data fields in the dataframe are stored as date fields<br>\n",
    "Last Updated by Sanjay - 8/5 at 7pm <br>\n",
    "Previously Updated by: blank <br>"
   ]
  },
  {
   "cell_type": "code",
   "execution_count": 3,
   "id": "0d13f9a4",
   "metadata": {
    "scrolled": true
   },
   "outputs": [
    {
     "data": {
      "text/html": [
       "<div>\n",
       "<style scoped>\n",
       "    .dataframe tbody tr th:only-of-type {\n",
       "        vertical-align: middle;\n",
       "    }\n",
       "\n",
       "    .dataframe tbody tr th {\n",
       "        vertical-align: top;\n",
       "    }\n",
       "\n",
       "    .dataframe thead th {\n",
       "        text-align: right;\n",
       "    }\n",
       "</style>\n",
       "<table border=\"1\" class=\"dataframe\">\n",
       "  <thead>\n",
       "    <tr style=\"text-align: right;\">\n",
       "      <th></th>\n",
       "      <th>id</th>\n",
       "      <th>date</th>\n",
       "      <th>price</th>\n",
       "      <th>bedrooms</th>\n",
       "      <th>bathrooms</th>\n",
       "      <th>sqft_living</th>\n",
       "      <th>sqft_lot</th>\n",
       "      <th>floors</th>\n",
       "      <th>waterfront</th>\n",
       "      <th>view</th>\n",
       "      <th>...</th>\n",
       "      <th>grade</th>\n",
       "      <th>sqft_above</th>\n",
       "      <th>sqft_basement</th>\n",
       "      <th>yr_built</th>\n",
       "      <th>yr_renovated</th>\n",
       "      <th>zipcode</th>\n",
       "      <th>lat</th>\n",
       "      <th>long</th>\n",
       "      <th>sqft_living15</th>\n",
       "      <th>sqft_lot15</th>\n",
       "    </tr>\n",
       "  </thead>\n",
       "  <tbody>\n",
       "    <tr>\n",
       "      <th>0</th>\n",
       "      <td>7129300520</td>\n",
       "      <td>2014-10-13</td>\n",
       "      <td>221900.0</td>\n",
       "      <td>3.0</td>\n",
       "      <td>1.00</td>\n",
       "      <td>1180.0</td>\n",
       "      <td>5650.0</td>\n",
       "      <td>1.0</td>\n",
       "      <td>0</td>\n",
       "      <td>0</td>\n",
       "      <td>...</td>\n",
       "      <td>7</td>\n",
       "      <td>1180</td>\n",
       "      <td>0</td>\n",
       "      <td>1955</td>\n",
       "      <td>0</td>\n",
       "      <td>98178</td>\n",
       "      <td>47.5112</td>\n",
       "      <td>-122.257</td>\n",
       "      <td>1340</td>\n",
       "      <td>5650</td>\n",
       "    </tr>\n",
       "    <tr>\n",
       "      <th>1</th>\n",
       "      <td>6414100192</td>\n",
       "      <td>2014-12-09</td>\n",
       "      <td>538000.0</td>\n",
       "      <td>3.0</td>\n",
       "      <td>2.25</td>\n",
       "      <td>2570.0</td>\n",
       "      <td>7242.0</td>\n",
       "      <td>2.0</td>\n",
       "      <td>0</td>\n",
       "      <td>0</td>\n",
       "      <td>...</td>\n",
       "      <td>7</td>\n",
       "      <td>2170</td>\n",
       "      <td>400</td>\n",
       "      <td>1951</td>\n",
       "      <td>1991</td>\n",
       "      <td>98125</td>\n",
       "      <td>47.7210</td>\n",
       "      <td>-122.319</td>\n",
       "      <td>1690</td>\n",
       "      <td>7639</td>\n",
       "    </tr>\n",
       "    <tr>\n",
       "      <th>2</th>\n",
       "      <td>5631500400</td>\n",
       "      <td>2015-02-25</td>\n",
       "      <td>180000.0</td>\n",
       "      <td>2.0</td>\n",
       "      <td>1.00</td>\n",
       "      <td>770.0</td>\n",
       "      <td>10000.0</td>\n",
       "      <td>1.0</td>\n",
       "      <td>0</td>\n",
       "      <td>0</td>\n",
       "      <td>...</td>\n",
       "      <td>6</td>\n",
       "      <td>770</td>\n",
       "      <td>0</td>\n",
       "      <td>1933</td>\n",
       "      <td>0</td>\n",
       "      <td>98028</td>\n",
       "      <td>47.7379</td>\n",
       "      <td>-122.233</td>\n",
       "      <td>2720</td>\n",
       "      <td>8062</td>\n",
       "    </tr>\n",
       "    <tr>\n",
       "      <th>3</th>\n",
       "      <td>2487200875</td>\n",
       "      <td>2014-12-09</td>\n",
       "      <td>604000.0</td>\n",
       "      <td>4.0</td>\n",
       "      <td>3.00</td>\n",
       "      <td>1960.0</td>\n",
       "      <td>5000.0</td>\n",
       "      <td>1.0</td>\n",
       "      <td>0</td>\n",
       "      <td>0</td>\n",
       "      <td>...</td>\n",
       "      <td>7</td>\n",
       "      <td>1050</td>\n",
       "      <td>910</td>\n",
       "      <td>1965</td>\n",
       "      <td>0</td>\n",
       "      <td>98136</td>\n",
       "      <td>47.5208</td>\n",
       "      <td>-122.393</td>\n",
       "      <td>1360</td>\n",
       "      <td>5000</td>\n",
       "    </tr>\n",
       "    <tr>\n",
       "      <th>4</th>\n",
       "      <td>1954400510</td>\n",
       "      <td>2015-02-18</td>\n",
       "      <td>510000.0</td>\n",
       "      <td>3.0</td>\n",
       "      <td>2.00</td>\n",
       "      <td>1680.0</td>\n",
       "      <td>8080.0</td>\n",
       "      <td>1.0</td>\n",
       "      <td>0</td>\n",
       "      <td>0</td>\n",
       "      <td>...</td>\n",
       "      <td>8</td>\n",
       "      <td>1680</td>\n",
       "      <td>0</td>\n",
       "      <td>1987</td>\n",
       "      <td>0</td>\n",
       "      <td>98074</td>\n",
       "      <td>47.6168</td>\n",
       "      <td>-122.045</td>\n",
       "      <td>1800</td>\n",
       "      <td>7503</td>\n",
       "    </tr>\n",
       "  </tbody>\n",
       "</table>\n",
       "<p>5 rows × 21 columns</p>\n",
       "</div>"
      ],
      "text/plain": [
       "           id       date     price  bedrooms  bathrooms  sqft_living  \\\n",
       "0  7129300520 2014-10-13  221900.0       3.0       1.00       1180.0   \n",
       "1  6414100192 2014-12-09  538000.0       3.0       2.25       2570.0   \n",
       "2  5631500400 2015-02-25  180000.0       2.0       1.00        770.0   \n",
       "3  2487200875 2014-12-09  604000.0       4.0       3.00       1960.0   \n",
       "4  1954400510 2015-02-18  510000.0       3.0       2.00       1680.0   \n",
       "\n",
       "   sqft_lot  floors  waterfront  view  ...  grade  sqft_above  sqft_basement  \\\n",
       "0    5650.0     1.0           0     0  ...      7        1180              0   \n",
       "1    7242.0     2.0           0     0  ...      7        2170            400   \n",
       "2   10000.0     1.0           0     0  ...      6         770              0   \n",
       "3    5000.0     1.0           0     0  ...      7        1050            910   \n",
       "4    8080.0     1.0           0     0  ...      8        1680              0   \n",
       "\n",
       "   yr_built  yr_renovated  zipcode      lat     long  sqft_living15  \\\n",
       "0      1955             0    98178  47.5112 -122.257           1340   \n",
       "1      1951          1991    98125  47.7210 -122.319           1690   \n",
       "2      1933             0    98028  47.7379 -122.233           2720   \n",
       "3      1965             0    98136  47.5208 -122.393           1360   \n",
       "4      1987             0    98074  47.6168 -122.045           1800   \n",
       "\n",
       "   sqft_lot15  \n",
       "0        5650  \n",
       "1        7639  \n",
       "2        8062  \n",
       "3        5000  \n",
       "4        7503  \n",
       "\n",
       "[5 rows x 21 columns]"
      ]
     },
     "execution_count": 3,
     "metadata": {},
     "output_type": "execute_result"
    }
   ],
   "source": [
    "## Fix date column\n",
    "house_df['date'] = pd.to_datetime(house_df['date'])\n",
    "\n",
    "## check\n",
    "house_df.head()"
   ]
  },
  {
   "cell_type": "markdown",
   "id": "83adf25c",
   "metadata": {},
   "source": [
    "#### Module: Find and Remove Outliers\n",
    "Purpose: Remove any outliers\n",
    "Last Updated by Sanjay - 8/9 at 11am\n",
    "Previously Updated by: blank "
   ]
  },
  {
   "cell_type": "code",
   "execution_count": 4,
   "id": "6f6cbf3a",
   "metadata": {},
   "outputs": [
    {
     "data": {
      "text/html": [
       "<div>\n",
       "<style scoped>\n",
       "    .dataframe tbody tr th:only-of-type {\n",
       "        vertical-align: middle;\n",
       "    }\n",
       "\n",
       "    .dataframe tbody tr th {\n",
       "        vertical-align: top;\n",
       "    }\n",
       "\n",
       "    .dataframe thead th {\n",
       "        text-align: right;\n",
       "    }\n",
       "</style>\n",
       "<table border=\"1\" class=\"dataframe\">\n",
       "  <thead>\n",
       "    <tr style=\"text-align: right;\">\n",
       "      <th></th>\n",
       "      <th>id</th>\n",
       "      <th>price</th>\n",
       "      <th>bedrooms</th>\n",
       "      <th>bathrooms</th>\n",
       "      <th>sqft_living</th>\n",
       "      <th>sqft_lot</th>\n",
       "      <th>floors</th>\n",
       "      <th>waterfront</th>\n",
       "      <th>view</th>\n",
       "      <th>condition</th>\n",
       "      <th>grade</th>\n",
       "      <th>sqft_above</th>\n",
       "      <th>sqft_basement</th>\n",
       "      <th>yr_built</th>\n",
       "      <th>yr_renovated</th>\n",
       "      <th>zipcode</th>\n",
       "      <th>lat</th>\n",
       "      <th>long</th>\n",
       "      <th>sqft_living15</th>\n",
       "      <th>sqft_lot15</th>\n",
       "    </tr>\n",
       "  </thead>\n",
       "  <tbody>\n",
       "    <tr>\n",
       "      <th>count</th>\n",
       "      <td>2.161300e+04</td>\n",
       "      <td>2.161300e+04</td>\n",
       "      <td>20479.000000</td>\n",
       "      <td>20545.000000</td>\n",
       "      <td>20503.000000</td>\n",
       "      <td>2.056900e+04</td>\n",
       "      <td>21613.000000</td>\n",
       "      <td>21613.000000</td>\n",
       "      <td>21613.000000</td>\n",
       "      <td>21613.000000</td>\n",
       "      <td>21613.000000</td>\n",
       "      <td>21613.000000</td>\n",
       "      <td>21613.000000</td>\n",
       "      <td>21613.000000</td>\n",
       "      <td>21613.000000</td>\n",
       "      <td>21613.000000</td>\n",
       "      <td>21613.000000</td>\n",
       "      <td>21613.000000</td>\n",
       "      <td>21613.000000</td>\n",
       "      <td>21613.000000</td>\n",
       "    </tr>\n",
       "    <tr>\n",
       "      <th>mean</th>\n",
       "      <td>4.580302e+09</td>\n",
       "      <td>5.400881e+05</td>\n",
       "      <td>3.372821</td>\n",
       "      <td>2.113507</td>\n",
       "      <td>2081.073697</td>\n",
       "      <td>1.517982e+04</td>\n",
       "      <td>1.494309</td>\n",
       "      <td>0.007542</td>\n",
       "      <td>0.234303</td>\n",
       "      <td>3.409430</td>\n",
       "      <td>7.656873</td>\n",
       "      <td>1788.390691</td>\n",
       "      <td>291.509045</td>\n",
       "      <td>1971.005136</td>\n",
       "      <td>84.402258</td>\n",
       "      <td>98077.939805</td>\n",
       "      <td>47.560053</td>\n",
       "      <td>-122.213896</td>\n",
       "      <td>1986.552492</td>\n",
       "      <td>12768.455652</td>\n",
       "    </tr>\n",
       "    <tr>\n",
       "      <th>std</th>\n",
       "      <td>2.876566e+09</td>\n",
       "      <td>3.671272e+05</td>\n",
       "      <td>0.930711</td>\n",
       "      <td>0.768913</td>\n",
       "      <td>915.043176</td>\n",
       "      <td>4.148617e+04</td>\n",
       "      <td>0.539989</td>\n",
       "      <td>0.086517</td>\n",
       "      <td>0.766318</td>\n",
       "      <td>0.650743</td>\n",
       "      <td>1.175459</td>\n",
       "      <td>828.090978</td>\n",
       "      <td>442.575043</td>\n",
       "      <td>29.373411</td>\n",
       "      <td>401.679240</td>\n",
       "      <td>53.505026</td>\n",
       "      <td>0.138564</td>\n",
       "      <td>0.140828</td>\n",
       "      <td>685.391304</td>\n",
       "      <td>27304.179631</td>\n",
       "    </tr>\n",
       "    <tr>\n",
       "      <th>min</th>\n",
       "      <td>1.000102e+06</td>\n",
       "      <td>7.500000e+04</td>\n",
       "      <td>0.000000</td>\n",
       "      <td>0.000000</td>\n",
       "      <td>290.000000</td>\n",
       "      <td>5.200000e+02</td>\n",
       "      <td>1.000000</td>\n",
       "      <td>0.000000</td>\n",
       "      <td>0.000000</td>\n",
       "      <td>1.000000</td>\n",
       "      <td>1.000000</td>\n",
       "      <td>290.000000</td>\n",
       "      <td>0.000000</td>\n",
       "      <td>1900.000000</td>\n",
       "      <td>0.000000</td>\n",
       "      <td>98001.000000</td>\n",
       "      <td>47.155900</td>\n",
       "      <td>-122.519000</td>\n",
       "      <td>399.000000</td>\n",
       "      <td>651.000000</td>\n",
       "    </tr>\n",
       "    <tr>\n",
       "      <th>25%</th>\n",
       "      <td>2.123049e+09</td>\n",
       "      <td>3.219500e+05</td>\n",
       "      <td>3.000000</td>\n",
       "      <td>1.500000</td>\n",
       "      <td>1430.000000</td>\n",
       "      <td>5.040000e+03</td>\n",
       "      <td>1.000000</td>\n",
       "      <td>0.000000</td>\n",
       "      <td>0.000000</td>\n",
       "      <td>3.000000</td>\n",
       "      <td>7.000000</td>\n",
       "      <td>1190.000000</td>\n",
       "      <td>0.000000</td>\n",
       "      <td>1951.000000</td>\n",
       "      <td>0.000000</td>\n",
       "      <td>98033.000000</td>\n",
       "      <td>47.471000</td>\n",
       "      <td>-122.328000</td>\n",
       "      <td>1490.000000</td>\n",
       "      <td>5100.000000</td>\n",
       "    </tr>\n",
       "    <tr>\n",
       "      <th>50%</th>\n",
       "      <td>3.904930e+09</td>\n",
       "      <td>4.500000e+05</td>\n",
       "      <td>3.000000</td>\n",
       "      <td>2.250000</td>\n",
       "      <td>1920.000000</td>\n",
       "      <td>7.620000e+03</td>\n",
       "      <td>1.500000</td>\n",
       "      <td>0.000000</td>\n",
       "      <td>0.000000</td>\n",
       "      <td>3.000000</td>\n",
       "      <td>7.000000</td>\n",
       "      <td>1560.000000</td>\n",
       "      <td>0.000000</td>\n",
       "      <td>1975.000000</td>\n",
       "      <td>0.000000</td>\n",
       "      <td>98065.000000</td>\n",
       "      <td>47.571800</td>\n",
       "      <td>-122.230000</td>\n",
       "      <td>1840.000000</td>\n",
       "      <td>7620.000000</td>\n",
       "    </tr>\n",
       "    <tr>\n",
       "      <th>75%</th>\n",
       "      <td>7.308900e+09</td>\n",
       "      <td>6.450000e+05</td>\n",
       "      <td>4.000000</td>\n",
       "      <td>2.500000</td>\n",
       "      <td>2550.000000</td>\n",
       "      <td>1.070800e+04</td>\n",
       "      <td>2.000000</td>\n",
       "      <td>0.000000</td>\n",
       "      <td>0.000000</td>\n",
       "      <td>4.000000</td>\n",
       "      <td>8.000000</td>\n",
       "      <td>2210.000000</td>\n",
       "      <td>560.000000</td>\n",
       "      <td>1997.000000</td>\n",
       "      <td>0.000000</td>\n",
       "      <td>98118.000000</td>\n",
       "      <td>47.678000</td>\n",
       "      <td>-122.125000</td>\n",
       "      <td>2360.000000</td>\n",
       "      <td>10083.000000</td>\n",
       "    </tr>\n",
       "    <tr>\n",
       "      <th>max</th>\n",
       "      <td>9.900000e+09</td>\n",
       "      <td>7.700000e+06</td>\n",
       "      <td>33.000000</td>\n",
       "      <td>8.000000</td>\n",
       "      <td>12050.000000</td>\n",
       "      <td>1.651359e+06</td>\n",
       "      <td>3.500000</td>\n",
       "      <td>1.000000</td>\n",
       "      <td>4.000000</td>\n",
       "      <td>5.000000</td>\n",
       "      <td>13.000000</td>\n",
       "      <td>9410.000000</td>\n",
       "      <td>4820.000000</td>\n",
       "      <td>2015.000000</td>\n",
       "      <td>2015.000000</td>\n",
       "      <td>98199.000000</td>\n",
       "      <td>47.777600</td>\n",
       "      <td>-121.315000</td>\n",
       "      <td>6210.000000</td>\n",
       "      <td>871200.000000</td>\n",
       "    </tr>\n",
       "  </tbody>\n",
       "</table>\n",
       "</div>"
      ],
      "text/plain": [
       "                 id         price      bedrooms     bathrooms   sqft_living  \\\n",
       "count  2.161300e+04  2.161300e+04  20479.000000  20545.000000  20503.000000   \n",
       "mean   4.580302e+09  5.400881e+05      3.372821      2.113507   2081.073697   \n",
       "std    2.876566e+09  3.671272e+05      0.930711      0.768913    915.043176   \n",
       "min    1.000102e+06  7.500000e+04      0.000000      0.000000    290.000000   \n",
       "25%    2.123049e+09  3.219500e+05      3.000000      1.500000   1430.000000   \n",
       "50%    3.904930e+09  4.500000e+05      3.000000      2.250000   1920.000000   \n",
       "75%    7.308900e+09  6.450000e+05      4.000000      2.500000   2550.000000   \n",
       "max    9.900000e+09  7.700000e+06     33.000000      8.000000  12050.000000   \n",
       "\n",
       "           sqft_lot        floors    waterfront          view     condition  \\\n",
       "count  2.056900e+04  21613.000000  21613.000000  21613.000000  21613.000000   \n",
       "mean   1.517982e+04      1.494309      0.007542      0.234303      3.409430   \n",
       "std    4.148617e+04      0.539989      0.086517      0.766318      0.650743   \n",
       "min    5.200000e+02      1.000000      0.000000      0.000000      1.000000   \n",
       "25%    5.040000e+03      1.000000      0.000000      0.000000      3.000000   \n",
       "50%    7.620000e+03      1.500000      0.000000      0.000000      3.000000   \n",
       "75%    1.070800e+04      2.000000      0.000000      0.000000      4.000000   \n",
       "max    1.651359e+06      3.500000      1.000000      4.000000      5.000000   \n",
       "\n",
       "              grade    sqft_above  sqft_basement      yr_built  yr_renovated  \\\n",
       "count  21613.000000  21613.000000   21613.000000  21613.000000  21613.000000   \n",
       "mean       7.656873   1788.390691     291.509045   1971.005136     84.402258   \n",
       "std        1.175459    828.090978     442.575043     29.373411    401.679240   \n",
       "min        1.000000    290.000000       0.000000   1900.000000      0.000000   \n",
       "25%        7.000000   1190.000000       0.000000   1951.000000      0.000000   \n",
       "50%        7.000000   1560.000000       0.000000   1975.000000      0.000000   \n",
       "75%        8.000000   2210.000000     560.000000   1997.000000      0.000000   \n",
       "max       13.000000   9410.000000    4820.000000   2015.000000   2015.000000   \n",
       "\n",
       "            zipcode           lat          long  sqft_living15     sqft_lot15  \n",
       "count  21613.000000  21613.000000  21613.000000   21613.000000   21613.000000  \n",
       "mean   98077.939805     47.560053   -122.213896    1986.552492   12768.455652  \n",
       "std       53.505026      0.138564      0.140828     685.391304   27304.179631  \n",
       "min    98001.000000     47.155900   -122.519000     399.000000     651.000000  \n",
       "25%    98033.000000     47.471000   -122.328000    1490.000000    5100.000000  \n",
       "50%    98065.000000     47.571800   -122.230000    1840.000000    7620.000000  \n",
       "75%    98118.000000     47.678000   -122.125000    2360.000000   10083.000000  \n",
       "max    98199.000000     47.777600   -121.315000    6210.000000  871200.000000  "
      ]
     },
     "execution_count": 4,
     "metadata": {},
     "output_type": "execute_result"
    }
   ],
   "source": [
    "house_df.describe()"
   ]
  },
  {
   "cell_type": "markdown",
   "id": "a1aa4bb0",
   "metadata": {},
   "source": [
    "Find outliers for key fields"
   ]
  },
  {
   "cell_type": "code",
   "execution_count": 5,
   "id": "d7ac5093",
   "metadata": {
    "scrolled": true
   },
   "outputs": [],
   "source": [
    "price_outliers = house_df[house_df['price'] > house_df['price'].mean() + 3 * house_df['price'].std()]\n",
    "bedrooms_outliers = house_df[house_df['bedrooms'] > house_df['bedrooms'].mean() + 3 * house_df['bedrooms'].std()]\n",
    "bathrooms_outliers = house_df[house_df['bathrooms'] > house_df['bathrooms'].mean() + 3 * house_df['bathrooms'].std()]\n",
    "sqftliving_outliers = house_df[house_df['sqft_living'] > house_df['sqft_living'].mean() + 3 * house_df['sqft_living'].std()]\n",
    "sqftlot_outliers = house_df[house_df['sqft_lot'] > house_df['sqft_lot'].mean() + 3 * house_df['sqft_lot'].std()]\n",
    "sqft_living15_outliers = house_df[house_df['sqft_living15'] > house_df['sqft_living15'].mean() + 3 * house_df['sqft_living15'].std()]\n",
    "sqft_lot15_outliers = house_df[house_df['sqft_lot15'] > house_df['sqft_lot15'].mean() + 3 * house_df['sqft_lot15'].std()]"
   ]
  },
  {
   "cell_type": "code",
   "execution_count": 6,
   "id": "ec41cb5f",
   "metadata": {},
   "outputs": [],
   "source": [
    "house_df.drop(house_df[(house_df['price'] > house_df['price'].mean() + 3 * house_df['price'].std())].index, inplace=True)"
   ]
  },
  {
   "cell_type": "code",
   "execution_count": 7,
   "id": "9a42b960",
   "metadata": {},
   "outputs": [
    {
     "data": {
      "text/plain": [
       "(21207, 21)"
      ]
     },
     "execution_count": 7,
     "metadata": {},
     "output_type": "execute_result"
    }
   ],
   "source": [
    "house_df.shape"
   ]
  },
  {
   "cell_type": "code",
   "execution_count": 8,
   "id": "23df3c99",
   "metadata": {},
   "outputs": [],
   "source": [
    "house_df.drop(house_df[(house_df['bedrooms'] > house_df['bedrooms'].mean() + 3 * house_df['bedrooms'].std())].index, inplace=True)"
   ]
  },
  {
   "cell_type": "code",
   "execution_count": 9,
   "id": "252b2d78",
   "metadata": {},
   "outputs": [
    {
     "data": {
      "text/plain": [
       "(21161, 21)"
      ]
     },
     "execution_count": 9,
     "metadata": {},
     "output_type": "execute_result"
    }
   ],
   "source": [
    "house_df.shape"
   ]
  },
  {
   "cell_type": "code",
   "execution_count": 10,
   "id": "ad2f54c7",
   "metadata": {},
   "outputs": [],
   "source": [
    "house_df.drop(house_df[(house_df['bathrooms'] > house_df['bathrooms'].mean() + 3 * house_df['bathrooms'].std())].index, inplace=True)"
   ]
  },
  {
   "cell_type": "code",
   "execution_count": 11,
   "id": "17cd79f2",
   "metadata": {},
   "outputs": [
    {
     "data": {
      "text/plain": [
       "(21068, 21)"
      ]
     },
     "execution_count": 11,
     "metadata": {},
     "output_type": "execute_result"
    }
   ],
   "source": [
    "house_df.shape"
   ]
  },
  {
   "cell_type": "code",
   "execution_count": 12,
   "id": "17e8012a",
   "metadata": {},
   "outputs": [],
   "source": [
    "house_df.drop(house_df[(house_df['sqft_living'] > house_df['sqft_living'].mean() + 3 * house_df['sqft_living'].std())].index, inplace=True)"
   ]
  },
  {
   "cell_type": "code",
   "execution_count": 13,
   "id": "01aec0ca",
   "metadata": {},
   "outputs": [
    {
     "data": {
      "text/plain": [
       "(20907, 21)"
      ]
     },
     "execution_count": 13,
     "metadata": {},
     "output_type": "execute_result"
    }
   ],
   "source": [
    "house_df.shape"
   ]
  },
  {
   "cell_type": "code",
   "execution_count": 14,
   "id": "813916ba",
   "metadata": {},
   "outputs": [],
   "source": [
    "house_df.drop(house_df[(house_df['sqft_lot'] > house_df['sqft_lot'].mean() + 3 * house_df['sqft_lot'].std())].index, inplace=True)"
   ]
  },
  {
   "cell_type": "code",
   "execution_count": 15,
   "id": "cbddb291",
   "metadata": {},
   "outputs": [
    {
     "data": {
      "text/plain": [
       "(20596, 21)"
      ]
     },
     "execution_count": 15,
     "metadata": {},
     "output_type": "execute_result"
    }
   ],
   "source": [
    "house_df.shape"
   ]
  },
  {
   "cell_type": "code",
   "execution_count": 16,
   "id": "30c2746e",
   "metadata": {},
   "outputs": [],
   "source": [
    "house_df.drop(house_df[(house_df['sqft_living15'] > house_df['sqft_living15'].mean() + 3 * house_df['sqft_living15'].std())].index, inplace=True)"
   ]
  },
  {
   "cell_type": "code",
   "execution_count": 17,
   "id": "48ac2fc4",
   "metadata": {},
   "outputs": [
    {
     "data": {
      "text/plain": [
       "(20416, 21)"
      ]
     },
     "execution_count": 17,
     "metadata": {},
     "output_type": "execute_result"
    }
   ],
   "source": [
    "house_df.shape"
   ]
  },
  {
   "cell_type": "code",
   "execution_count": 18,
   "id": "2e9de5d5",
   "metadata": {},
   "outputs": [],
   "source": [
    "house_df.drop(house_df[(house_df['sqft_lot15'] > house_df['sqft_lot15'].mean() + 3 * house_df['sqft_lot15'].std())].index, inplace=True)"
   ]
  },
  {
   "cell_type": "code",
   "execution_count": 19,
   "id": "a1f37f67",
   "metadata": {},
   "outputs": [
    {
     "data": {
      "text/plain": [
       "(20157, 21)"
      ]
     },
     "execution_count": 19,
     "metadata": {},
     "output_type": "execute_result"
    }
   ],
   "source": [
    "house_df.shape"
   ]
  },
  {
   "cell_type": "code",
   "execution_count": 20,
   "id": "c4b524dd",
   "metadata": {},
   "outputs": [
    {
     "data": {
      "text/plain": [
       "1456"
      ]
     },
     "execution_count": 20,
     "metadata": {},
     "output_type": "execute_result"
    }
   ],
   "source": [
    "# After deleting outliers, 1456 rows were removed\n",
    "21613 - 20157"
   ]
  },
  {
   "cell_type": "markdown",
   "id": "e97daf06",
   "metadata": {},
   "source": [
    "##### Module: Remove Duplicate Records<br>\n",
    "Purpose: Delete any possible duplicate records<br>\n",
    "Last Updated by Sanjay - 8/9 at 7pm <br>\n",
    "Previously Updated by: blank <br>"
   ]
  },
  {
   "cell_type": "code",
   "execution_count": 21,
   "id": "ef2eae3f",
   "metadata": {},
   "outputs": [
    {
     "data": {
      "text/plain": [
       "0"
      ]
     },
     "execution_count": 21,
     "metadata": {},
     "output_type": "execute_result"
    }
   ],
   "source": [
    "house_df.duplicated(subset=None, keep='first').sum()"
   ]
  },
  {
   "cell_type": "markdown",
   "id": "bb2d4d7f",
   "metadata": {},
   "source": [
    "##### Module: Identify Missing Data Values<br>\n",
    "Purpose: Identify the number of Values Missing from Each Column for Data Imputation<br>\n",
    "Last Updated by Sanjay - 8/5 at 7pm <br>\n",
    "Previously Updated by: blank <br>"
   ]
  },
  {
   "cell_type": "code",
   "execution_count": 22,
   "id": "9ae37e57",
   "metadata": {
    "scrolled": true
   },
   "outputs": [
    {
     "data": {
      "text/plain": [
       "id                  0\n",
       "date                0\n",
       "price               0\n",
       "bedrooms         1054\n",
       "bathrooms        1002\n",
       "sqft_living      1027\n",
       "sqft_lot          992\n",
       "floors              0\n",
       "waterfront          0\n",
       "view                0\n",
       "condition           0\n",
       "grade               0\n",
       "sqft_above          0\n",
       "sqft_basement       0\n",
       "yr_built            0\n",
       "yr_renovated        0\n",
       "zipcode             0\n",
       "lat                 0\n",
       "long                0\n",
       "sqft_living15       0\n",
       "sqft_lot15          0\n",
       "dtype: int64"
      ]
     },
     "execution_count": 22,
     "metadata": {},
     "output_type": "execute_result"
    }
   ],
   "source": [
    "#find fields with missing values\n",
    "\n",
    "house_df.isnull().sum()"
   ]
  },
  {
   "cell_type": "markdown",
   "id": "e22f3e23",
   "metadata": {},
   "source": [
    "##### Module: Predict Missing Values in Data<br>\n",
    "Purpose: Use Linear Regression to Fill in the Missing Values in the Data<br>\n",
    "Last Updated by Sanjay - 8/5 at 7pm <br>\n",
    "Previously Updated by: blank <br>"
   ]
  },
  {
   "cell_type": "code",
   "execution_count": 23,
   "id": "d4030c31",
   "metadata": {
    "scrolled": true
   },
   "outputs": [
    {
     "name": "stderr",
     "output_type": "stream",
     "text": [
      "/var/folders/s6/5rzdndv95rd5zjclx1k9v1qw0000gn/T/ipykernel_4019/1615738196.py:2: FutureWarning: DataFrame.mean and DataFrame.median with numeric_only=None will include datetime64 and datetime64tz columns in a future version.\n",
      "  house_median = house_df_imp.median()\n"
     ]
    }
   ],
   "source": [
    "house_df_imp = house_df\n",
    "house_median = house_df_imp.median()"
   ]
  },
  {
   "cell_type": "code",
   "execution_count": 24,
   "id": "3306a9cd",
   "metadata": {},
   "outputs": [],
   "source": [
    "house_df_imp = house_df_imp.fillna(value = house_median)"
   ]
  },
  {
   "cell_type": "code",
   "execution_count": 25,
   "id": "88ba3057",
   "metadata": {},
   "outputs": [],
   "source": [
    "# create variables to conduct regression to find bedrooms based off of square footage\n",
    "\n",
    "xsqft = np.array(house_df_imp['sqft_living']).reshape((-1, 1))\n",
    "ybedrooms = np.array(house_df_imp['bedrooms'])\n",
    "\n",
    " \n",
    "# create variables to conduct regression to find bathrooms based off of square footage\n",
    "\n",
    "ybathrooms = np.array(house_df_imp['bathrooms'])\n",
    "\n",
    "\n",
    "# create variables to conduct regression to find sqft_lot based off of square footage\n",
    "\n",
    "ysqftlot = np.array(house_df_imp['sqft_lot'])\n",
    "\n",
    "\n",
    "# create variables to conduct regression to find sqft_lot based off of square footage\n",
    "\n",
    "xbedrooms = np.array(house_df_imp['bedrooms']).reshape((-1, 1))\n",
    "ysqftliving = np.array(house_df_imp['sqft_living'])"
   ]
  },
  {
   "cell_type": "code",
   "execution_count": 26,
   "id": "f95fb25b",
   "metadata": {
    "scrolled": true
   },
   "outputs": [],
   "source": [
    "# create regression models for where columns where data is missing\n",
    "\n",
    "bedrooms_model = LinearRegression().fit(xsqft, ybedrooms)\n",
    "bathrooms_model = LinearRegression().fit(xsqft, ybathrooms)\n",
    "sqft_lot_model = LinearRegression().fit(xsqft, ysqftlot)\n",
    "sqft_living_model = LinearRegression().fit(xbedrooms, ysqftliving)"
   ]
  },
  {
   "cell_type": "code",
   "execution_count": 27,
   "id": "9d58ba5d",
   "metadata": {
    "scrolled": true
   },
   "outputs": [],
   "source": [
    "predicted_bedrooms = np.round(bedrooms_model.predict(xsqft), decimals = 0)\n",
    "predicted_bathrooms = np.round(bathrooms_model.predict(xsqft), decimals = 0)\n",
    "predicted_lot = np.round(sqft_lot_model.predict(xsqft), decimals = 0)\n",
    "predicted_living = np.round(bathrooms_model.predict(xbedrooms), decimals = 0)"
   ]
  },
  {
   "cell_type": "code",
   "execution_count": 28,
   "id": "8c8621cf",
   "metadata": {
    "scrolled": true
   },
   "outputs": [],
   "source": [
    "house_df['predicted_bedrooms'] = predicted_bedrooms\n",
    "house_df['predicted_bathrooms'] = predicted_bathrooms\n",
    "house_df['predicted_lot'] = predicted_lot\n",
    "house_df['predicted_living'] = predicted_living"
   ]
  },
  {
   "cell_type": "code",
   "execution_count": 29,
   "id": "c5319bd2",
   "metadata": {},
   "outputs": [
    {
     "data": {
      "text/plain": [
       "id                        0\n",
       "date                      0\n",
       "price                     0\n",
       "bedrooms               1054\n",
       "bathrooms              1002\n",
       "sqft_living            1027\n",
       "sqft_lot                992\n",
       "floors                    0\n",
       "waterfront                0\n",
       "view                      0\n",
       "condition                 0\n",
       "grade                     0\n",
       "sqft_above                0\n",
       "sqft_basement             0\n",
       "yr_built                  0\n",
       "yr_renovated              0\n",
       "zipcode                   0\n",
       "lat                       0\n",
       "long                      0\n",
       "sqft_living15             0\n",
       "sqft_lot15                0\n",
       "predicted_bedrooms        0\n",
       "predicted_bathrooms       0\n",
       "predicted_lot             0\n",
       "predicted_living          0\n",
       "dtype: int64"
      ]
     },
     "execution_count": 29,
     "metadata": {},
     "output_type": "execute_result"
    }
   ],
   "source": [
    "house_df.isnull().sum()"
   ]
  },
  {
   "cell_type": "code",
   "execution_count": 30,
   "id": "e05e99d9",
   "metadata": {},
   "outputs": [],
   "source": [
    "house_df['bedrooms'] = house_df['bedrooms'].fillna(value=house_df['predicted_bedrooms'])\n",
    "house_df['bathrooms'] = house_df['bathrooms'].fillna(value=house_df['predicted_bathrooms'])\n",
    "house_df['sqft_living'] = house_df['sqft_living'].fillna(value=house_df['predicted_living'])\n",
    "house_df['sqft_lot'] = house_df['sqft_lot'].fillna(value=house_df['predicted_lot'])"
   ]
  },
  {
   "cell_type": "code",
   "execution_count": 31,
   "id": "7cd51d72",
   "metadata": {},
   "outputs": [
    {
     "data": {
      "text/html": [
       "<div>\n",
       "<style scoped>\n",
       "    .dataframe tbody tr th:only-of-type {\n",
       "        vertical-align: middle;\n",
       "    }\n",
       "\n",
       "    .dataframe tbody tr th {\n",
       "        vertical-align: top;\n",
       "    }\n",
       "\n",
       "    .dataframe thead th {\n",
       "        text-align: right;\n",
       "    }\n",
       "</style>\n",
       "<table border=\"1\" class=\"dataframe\">\n",
       "  <thead>\n",
       "    <tr style=\"text-align: right;\">\n",
       "      <th></th>\n",
       "      <th>id</th>\n",
       "      <th>date</th>\n",
       "      <th>price</th>\n",
       "      <th>bedrooms</th>\n",
       "      <th>bathrooms</th>\n",
       "      <th>sqft_living</th>\n",
       "      <th>sqft_lot</th>\n",
       "      <th>floors</th>\n",
       "      <th>waterfront</th>\n",
       "      <th>view</th>\n",
       "      <th>...</th>\n",
       "      <th>yr_renovated</th>\n",
       "      <th>zipcode</th>\n",
       "      <th>lat</th>\n",
       "      <th>long</th>\n",
       "      <th>sqft_living15</th>\n",
       "      <th>sqft_lot15</th>\n",
       "      <th>predicted_bedrooms</th>\n",
       "      <th>predicted_bathrooms</th>\n",
       "      <th>predicted_lot</th>\n",
       "      <th>predicted_living</th>\n",
       "    </tr>\n",
       "  </thead>\n",
       "  <tbody>\n",
       "    <tr>\n",
       "      <th>0</th>\n",
       "      <td>7129300520</td>\n",
       "      <td>2014-10-13</td>\n",
       "      <td>221900.0</td>\n",
       "      <td>3.0</td>\n",
       "      <td>1.00</td>\n",
       "      <td>1180.0</td>\n",
       "      <td>5650.0</td>\n",
       "      <td>1.0</td>\n",
       "      <td>0</td>\n",
       "      <td>0</td>\n",
       "      <td>...</td>\n",
       "      <td>0</td>\n",
       "      <td>98178</td>\n",
       "      <td>47.5112</td>\n",
       "      <td>-122.257</td>\n",
       "      <td>1340</td>\n",
       "      <td>5650</td>\n",
       "      <td>3.0</td>\n",
       "      <td>2.0</td>\n",
       "      <td>7302.0</td>\n",
       "      <td>1.0</td>\n",
       "    </tr>\n",
       "    <tr>\n",
       "      <th>1</th>\n",
       "      <td>6414100192</td>\n",
       "      <td>2014-12-09</td>\n",
       "      <td>538000.0</td>\n",
       "      <td>3.0</td>\n",
       "      <td>2.25</td>\n",
       "      <td>2570.0</td>\n",
       "      <td>7242.0</td>\n",
       "      <td>2.0</td>\n",
       "      <td>0</td>\n",
       "      <td>0</td>\n",
       "      <td>...</td>\n",
       "      <td>1991</td>\n",
       "      <td>98125</td>\n",
       "      <td>47.7210</td>\n",
       "      <td>-122.319</td>\n",
       "      <td>1690</td>\n",
       "      <td>7639</td>\n",
       "      <td>4.0</td>\n",
       "      <td>2.0</td>\n",
       "      <td>11371.0</td>\n",
       "      <td>1.0</td>\n",
       "    </tr>\n",
       "    <tr>\n",
       "      <th>2</th>\n",
       "      <td>5631500400</td>\n",
       "      <td>2015-02-25</td>\n",
       "      <td>180000.0</td>\n",
       "      <td>2.0</td>\n",
       "      <td>1.00</td>\n",
       "      <td>770.0</td>\n",
       "      <td>10000.0</td>\n",
       "      <td>1.0</td>\n",
       "      <td>0</td>\n",
       "      <td>0</td>\n",
       "      <td>...</td>\n",
       "      <td>0</td>\n",
       "      <td>98028</td>\n",
       "      <td>47.7379</td>\n",
       "      <td>-122.233</td>\n",
       "      <td>2720</td>\n",
       "      <td>8062</td>\n",
       "      <td>3.0</td>\n",
       "      <td>1.0</td>\n",
       "      <td>6102.0</td>\n",
       "      <td>1.0</td>\n",
       "    </tr>\n",
       "    <tr>\n",
       "      <th>3</th>\n",
       "      <td>2487200875</td>\n",
       "      <td>2014-12-09</td>\n",
       "      <td>604000.0</td>\n",
       "      <td>4.0</td>\n",
       "      <td>3.00</td>\n",
       "      <td>1960.0</td>\n",
       "      <td>5000.0</td>\n",
       "      <td>1.0</td>\n",
       "      <td>0</td>\n",
       "      <td>0</td>\n",
       "      <td>...</td>\n",
       "      <td>0</td>\n",
       "      <td>98136</td>\n",
       "      <td>47.5208</td>\n",
       "      <td>-122.393</td>\n",
       "      <td>1360</td>\n",
       "      <td>5000</td>\n",
       "      <td>3.0</td>\n",
       "      <td>2.0</td>\n",
       "      <td>9586.0</td>\n",
       "      <td>1.0</td>\n",
       "    </tr>\n",
       "    <tr>\n",
       "      <th>4</th>\n",
       "      <td>1954400510</td>\n",
       "      <td>2015-02-18</td>\n",
       "      <td>510000.0</td>\n",
       "      <td>3.0</td>\n",
       "      <td>2.00</td>\n",
       "      <td>1680.0</td>\n",
       "      <td>8080.0</td>\n",
       "      <td>1.0</td>\n",
       "      <td>0</td>\n",
       "      <td>0</td>\n",
       "      <td>...</td>\n",
       "      <td>0</td>\n",
       "      <td>98074</td>\n",
       "      <td>47.6168</td>\n",
       "      <td>-122.045</td>\n",
       "      <td>1800</td>\n",
       "      <td>7503</td>\n",
       "      <td>3.0</td>\n",
       "      <td>2.0</td>\n",
       "      <td>8766.0</td>\n",
       "      <td>1.0</td>\n",
       "    </tr>\n",
       "  </tbody>\n",
       "</table>\n",
       "<p>5 rows × 25 columns</p>\n",
       "</div>"
      ],
      "text/plain": [
       "           id       date     price  bedrooms  bathrooms  sqft_living  \\\n",
       "0  7129300520 2014-10-13  221900.0       3.0       1.00       1180.0   \n",
       "1  6414100192 2014-12-09  538000.0       3.0       2.25       2570.0   \n",
       "2  5631500400 2015-02-25  180000.0       2.0       1.00        770.0   \n",
       "3  2487200875 2014-12-09  604000.0       4.0       3.00       1960.0   \n",
       "4  1954400510 2015-02-18  510000.0       3.0       2.00       1680.0   \n",
       "\n",
       "   sqft_lot  floors  waterfront  view  ...  yr_renovated  zipcode      lat  \\\n",
       "0    5650.0     1.0           0     0  ...             0    98178  47.5112   \n",
       "1    7242.0     2.0           0     0  ...          1991    98125  47.7210   \n",
       "2   10000.0     1.0           0     0  ...             0    98028  47.7379   \n",
       "3    5000.0     1.0           0     0  ...             0    98136  47.5208   \n",
       "4    8080.0     1.0           0     0  ...             0    98074  47.6168   \n",
       "\n",
       "      long  sqft_living15  sqft_lot15  predicted_bedrooms  \\\n",
       "0 -122.257           1340        5650                 3.0   \n",
       "1 -122.319           1690        7639                 4.0   \n",
       "2 -122.233           2720        8062                 3.0   \n",
       "3 -122.393           1360        5000                 3.0   \n",
       "4 -122.045           1800        7503                 3.0   \n",
       "\n",
       "   predicted_bathrooms  predicted_lot  predicted_living  \n",
       "0                  2.0         7302.0               1.0  \n",
       "1                  2.0        11371.0               1.0  \n",
       "2                  1.0         6102.0               1.0  \n",
       "3                  2.0         9586.0               1.0  \n",
       "4                  2.0         8766.0               1.0  \n",
       "\n",
       "[5 rows x 25 columns]"
      ]
     },
     "execution_count": 31,
     "metadata": {},
     "output_type": "execute_result"
    }
   ],
   "source": [
    "house_df.head()"
   ]
  },
  {
   "cell_type": "code",
   "execution_count": 32,
   "id": "5b87f548",
   "metadata": {
    "scrolled": false
   },
   "outputs": [
    {
     "data": {
      "text/plain": [
       "id                     0\n",
       "date                   0\n",
       "price                  0\n",
       "bedrooms               0\n",
       "bathrooms              0\n",
       "sqft_living            0\n",
       "sqft_lot               0\n",
       "floors                 0\n",
       "waterfront             0\n",
       "view                   0\n",
       "condition              0\n",
       "grade                  0\n",
       "sqft_above             0\n",
       "sqft_basement          0\n",
       "yr_built               0\n",
       "yr_renovated           0\n",
       "zipcode                0\n",
       "lat                    0\n",
       "long                   0\n",
       "sqft_living15          0\n",
       "sqft_lot15             0\n",
       "predicted_bedrooms     0\n",
       "predicted_bathrooms    0\n",
       "predicted_lot          0\n",
       "predicted_living       0\n",
       "dtype: int64"
      ]
     },
     "execution_count": 32,
     "metadata": {},
     "output_type": "execute_result"
    }
   ],
   "source": [
    "#check results\n",
    "\n",
    "house_df.isnull().sum()"
   ]
  },
  {
   "cell_type": "code",
   "execution_count": 33,
   "id": "f9058024",
   "metadata": {},
   "outputs": [],
   "source": [
    "house_df['sqft_living'] = house_df['sqft_living'].fillna(value=house_df['sqft_living'])\n",
    "house_df['sqft_lot'] = house_df['sqft_lot'].fillna(value=house_df['sqft_lot'])"
   ]
  },
  {
   "cell_type": "code",
   "execution_count": 34,
   "id": "5beccfd1",
   "metadata": {},
   "outputs": [
    {
     "data": {
      "text/plain": [
       "id                     0\n",
       "date                   0\n",
       "price                  0\n",
       "bedrooms               0\n",
       "bathrooms              0\n",
       "sqft_living            0\n",
       "sqft_lot               0\n",
       "floors                 0\n",
       "waterfront             0\n",
       "view                   0\n",
       "condition              0\n",
       "grade                  0\n",
       "sqft_above             0\n",
       "sqft_basement          0\n",
       "yr_built               0\n",
       "yr_renovated           0\n",
       "zipcode                0\n",
       "lat                    0\n",
       "long                   0\n",
       "sqft_living15          0\n",
       "sqft_lot15             0\n",
       "predicted_bedrooms     0\n",
       "predicted_bathrooms    0\n",
       "predicted_lot          0\n",
       "predicted_living       0\n",
       "dtype: int64"
      ]
     },
     "execution_count": 34,
     "metadata": {},
     "output_type": "execute_result"
    }
   ],
   "source": [
    "house_df.isnull().sum()"
   ]
  },
  {
   "cell_type": "code",
   "execution_count": 35,
   "id": "1447fffc",
   "metadata": {
    "scrolled": true
   },
   "outputs": [
    {
     "data": {
      "text/plain": [
       "id                              int64\n",
       "date                   datetime64[ns]\n",
       "price                         float64\n",
       "bedrooms                      float64\n",
       "bathrooms                     float64\n",
       "sqft_living                   float64\n",
       "sqft_lot                      float64\n",
       "floors                        float64\n",
       "waterfront                      int64\n",
       "view                            int64\n",
       "condition                       int64\n",
       "grade                           int64\n",
       "sqft_above                      int64\n",
       "sqft_basement                   int64\n",
       "yr_built                        int64\n",
       "yr_renovated                    int64\n",
       "zipcode                         int64\n",
       "lat                           float64\n",
       "long                          float64\n",
       "sqft_living15                   int64\n",
       "sqft_lot15                      int64\n",
       "predicted_bedrooms            float64\n",
       "predicted_bathrooms           float64\n",
       "predicted_lot                 float64\n",
       "predicted_living              float64\n",
       "dtype: object"
      ]
     },
     "execution_count": 35,
     "metadata": {},
     "output_type": "execute_result"
    }
   ],
   "source": [
    "#check data types of dataframe\n",
    "\n",
    "house_df.dtypes"
   ]
  },
  {
   "cell_type": "code",
   "execution_count": 36,
   "id": "2eac80c1",
   "metadata": {},
   "outputs": [
    {
     "data": {
      "text/html": [
       "<div>\n",
       "<style scoped>\n",
       "    .dataframe tbody tr th:only-of-type {\n",
       "        vertical-align: middle;\n",
       "    }\n",
       "\n",
       "    .dataframe tbody tr th {\n",
       "        vertical-align: top;\n",
       "    }\n",
       "\n",
       "    .dataframe thead th {\n",
       "        text-align: right;\n",
       "    }\n",
       "</style>\n",
       "<table border=\"1\" class=\"dataframe\">\n",
       "  <thead>\n",
       "    <tr style=\"text-align: right;\">\n",
       "      <th></th>\n",
       "      <th>id</th>\n",
       "      <th>date</th>\n",
       "      <th>price</th>\n",
       "      <th>bedrooms</th>\n",
       "      <th>bathrooms</th>\n",
       "      <th>sqft_living</th>\n",
       "      <th>sqft_lot</th>\n",
       "      <th>floors</th>\n",
       "      <th>waterfront</th>\n",
       "      <th>view</th>\n",
       "      <th>...</th>\n",
       "      <th>yr_renovated</th>\n",
       "      <th>zipcode</th>\n",
       "      <th>lat</th>\n",
       "      <th>long</th>\n",
       "      <th>sqft_living15</th>\n",
       "      <th>sqft_lot15</th>\n",
       "      <th>predicted_bedrooms</th>\n",
       "      <th>predicted_bathrooms</th>\n",
       "      <th>predicted_lot</th>\n",
       "      <th>predicted_living</th>\n",
       "    </tr>\n",
       "  </thead>\n",
       "  <tbody>\n",
       "    <tr>\n",
       "      <th>0</th>\n",
       "      <td>7129300520</td>\n",
       "      <td>2014-10-13</td>\n",
       "      <td>221900.0</td>\n",
       "      <td>3</td>\n",
       "      <td>1</td>\n",
       "      <td>1180.0</td>\n",
       "      <td>5650.0</td>\n",
       "      <td>1.0</td>\n",
       "      <td>0</td>\n",
       "      <td>0</td>\n",
       "      <td>...</td>\n",
       "      <td>0</td>\n",
       "      <td>98178</td>\n",
       "      <td>47.5112</td>\n",
       "      <td>-122.257</td>\n",
       "      <td>1340</td>\n",
       "      <td>5650</td>\n",
       "      <td>3.0</td>\n",
       "      <td>2.0</td>\n",
       "      <td>7302.0</td>\n",
       "      <td>1.0</td>\n",
       "    </tr>\n",
       "    <tr>\n",
       "      <th>1</th>\n",
       "      <td>6414100192</td>\n",
       "      <td>2014-12-09</td>\n",
       "      <td>538000.0</td>\n",
       "      <td>3</td>\n",
       "      <td>2</td>\n",
       "      <td>2570.0</td>\n",
       "      <td>7242.0</td>\n",
       "      <td>2.0</td>\n",
       "      <td>0</td>\n",
       "      <td>0</td>\n",
       "      <td>...</td>\n",
       "      <td>1991</td>\n",
       "      <td>98125</td>\n",
       "      <td>47.7210</td>\n",
       "      <td>-122.319</td>\n",
       "      <td>1690</td>\n",
       "      <td>7639</td>\n",
       "      <td>4.0</td>\n",
       "      <td>2.0</td>\n",
       "      <td>11371.0</td>\n",
       "      <td>1.0</td>\n",
       "    </tr>\n",
       "    <tr>\n",
       "      <th>2</th>\n",
       "      <td>5631500400</td>\n",
       "      <td>2015-02-25</td>\n",
       "      <td>180000.0</td>\n",
       "      <td>2</td>\n",
       "      <td>1</td>\n",
       "      <td>770.0</td>\n",
       "      <td>10000.0</td>\n",
       "      <td>1.0</td>\n",
       "      <td>0</td>\n",
       "      <td>0</td>\n",
       "      <td>...</td>\n",
       "      <td>0</td>\n",
       "      <td>98028</td>\n",
       "      <td>47.7379</td>\n",
       "      <td>-122.233</td>\n",
       "      <td>2720</td>\n",
       "      <td>8062</td>\n",
       "      <td>3.0</td>\n",
       "      <td>1.0</td>\n",
       "      <td>6102.0</td>\n",
       "      <td>1.0</td>\n",
       "    </tr>\n",
       "    <tr>\n",
       "      <th>3</th>\n",
       "      <td>2487200875</td>\n",
       "      <td>2014-12-09</td>\n",
       "      <td>604000.0</td>\n",
       "      <td>4</td>\n",
       "      <td>3</td>\n",
       "      <td>1960.0</td>\n",
       "      <td>5000.0</td>\n",
       "      <td>1.0</td>\n",
       "      <td>0</td>\n",
       "      <td>0</td>\n",
       "      <td>...</td>\n",
       "      <td>0</td>\n",
       "      <td>98136</td>\n",
       "      <td>47.5208</td>\n",
       "      <td>-122.393</td>\n",
       "      <td>1360</td>\n",
       "      <td>5000</td>\n",
       "      <td>3.0</td>\n",
       "      <td>2.0</td>\n",
       "      <td>9586.0</td>\n",
       "      <td>1.0</td>\n",
       "    </tr>\n",
       "    <tr>\n",
       "      <th>4</th>\n",
       "      <td>1954400510</td>\n",
       "      <td>2015-02-18</td>\n",
       "      <td>510000.0</td>\n",
       "      <td>3</td>\n",
       "      <td>2</td>\n",
       "      <td>1680.0</td>\n",
       "      <td>8080.0</td>\n",
       "      <td>1.0</td>\n",
       "      <td>0</td>\n",
       "      <td>0</td>\n",
       "      <td>...</td>\n",
       "      <td>0</td>\n",
       "      <td>98074</td>\n",
       "      <td>47.6168</td>\n",
       "      <td>-122.045</td>\n",
       "      <td>1800</td>\n",
       "      <td>7503</td>\n",
       "      <td>3.0</td>\n",
       "      <td>2.0</td>\n",
       "      <td>8766.0</td>\n",
       "      <td>1.0</td>\n",
       "    </tr>\n",
       "    <tr>\n",
       "      <th>...</th>\n",
       "      <td>...</td>\n",
       "      <td>...</td>\n",
       "      <td>...</td>\n",
       "      <td>...</td>\n",
       "      <td>...</td>\n",
       "      <td>...</td>\n",
       "      <td>...</td>\n",
       "      <td>...</td>\n",
       "      <td>...</td>\n",
       "      <td>...</td>\n",
       "      <td>...</td>\n",
       "      <td>...</td>\n",
       "      <td>...</td>\n",
       "      <td>...</td>\n",
       "      <td>...</td>\n",
       "      <td>...</td>\n",
       "      <td>...</td>\n",
       "      <td>...</td>\n",
       "      <td>...</td>\n",
       "      <td>...</td>\n",
       "      <td>...</td>\n",
       "    </tr>\n",
       "    <tr>\n",
       "      <th>21608</th>\n",
       "      <td>263000018</td>\n",
       "      <td>2014-05-21</td>\n",
       "      <td>360000.0</td>\n",
       "      <td>3</td>\n",
       "      <td>2</td>\n",
       "      <td>1530.0</td>\n",
       "      <td>1131.0</td>\n",
       "      <td>3.0</td>\n",
       "      <td>0</td>\n",
       "      <td>0</td>\n",
       "      <td>...</td>\n",
       "      <td>0</td>\n",
       "      <td>98103</td>\n",
       "      <td>47.6993</td>\n",
       "      <td>-122.346</td>\n",
       "      <td>1530</td>\n",
       "      <td>1509</td>\n",
       "      <td>3.0</td>\n",
       "      <td>2.0</td>\n",
       "      <td>8327.0</td>\n",
       "      <td>1.0</td>\n",
       "    </tr>\n",
       "    <tr>\n",
       "      <th>21609</th>\n",
       "      <td>6600060120</td>\n",
       "      <td>2015-02-23</td>\n",
       "      <td>400000.0</td>\n",
       "      <td>4</td>\n",
       "      <td>2</td>\n",
       "      <td>2310.0</td>\n",
       "      <td>5813.0</td>\n",
       "      <td>2.0</td>\n",
       "      <td>0</td>\n",
       "      <td>0</td>\n",
       "      <td>...</td>\n",
       "      <td>0</td>\n",
       "      <td>98146</td>\n",
       "      <td>47.5107</td>\n",
       "      <td>-122.362</td>\n",
       "      <td>1830</td>\n",
       "      <td>7200</td>\n",
       "      <td>4.0</td>\n",
       "      <td>2.0</td>\n",
       "      <td>10610.0</td>\n",
       "      <td>1.0</td>\n",
       "    </tr>\n",
       "    <tr>\n",
       "      <th>21610</th>\n",
       "      <td>1523300141</td>\n",
       "      <td>2014-06-23</td>\n",
       "      <td>402101.0</td>\n",
       "      <td>2</td>\n",
       "      <td>0</td>\n",
       "      <td>1020.0</td>\n",
       "      <td>1350.0</td>\n",
       "      <td>2.0</td>\n",
       "      <td>0</td>\n",
       "      <td>0</td>\n",
       "      <td>...</td>\n",
       "      <td>0</td>\n",
       "      <td>98144</td>\n",
       "      <td>47.5944</td>\n",
       "      <td>-122.299</td>\n",
       "      <td>1020</td>\n",
       "      <td>2007</td>\n",
       "      <td>3.0</td>\n",
       "      <td>1.0</td>\n",
       "      <td>6834.0</td>\n",
       "      <td>1.0</td>\n",
       "    </tr>\n",
       "    <tr>\n",
       "      <th>21611</th>\n",
       "      <td>291310100</td>\n",
       "      <td>2015-01-16</td>\n",
       "      <td>400000.0</td>\n",
       "      <td>3</td>\n",
       "      <td>2</td>\n",
       "      <td>1600.0</td>\n",
       "      <td>2388.0</td>\n",
       "      <td>2.0</td>\n",
       "      <td>0</td>\n",
       "      <td>0</td>\n",
       "      <td>...</td>\n",
       "      <td>0</td>\n",
       "      <td>98027</td>\n",
       "      <td>47.5345</td>\n",
       "      <td>-122.069</td>\n",
       "      <td>1410</td>\n",
       "      <td>1287</td>\n",
       "      <td>3.0</td>\n",
       "      <td>2.0</td>\n",
       "      <td>8532.0</td>\n",
       "      <td>1.0</td>\n",
       "    </tr>\n",
       "    <tr>\n",
       "      <th>21612</th>\n",
       "      <td>1523300157</td>\n",
       "      <td>2014-10-15</td>\n",
       "      <td>325000.0</td>\n",
       "      <td>2</td>\n",
       "      <td>0</td>\n",
       "      <td>1020.0</td>\n",
       "      <td>1076.0</td>\n",
       "      <td>2.0</td>\n",
       "      <td>0</td>\n",
       "      <td>0</td>\n",
       "      <td>...</td>\n",
       "      <td>0</td>\n",
       "      <td>98144</td>\n",
       "      <td>47.5941</td>\n",
       "      <td>-122.299</td>\n",
       "      <td>1020</td>\n",
       "      <td>1357</td>\n",
       "      <td>3.0</td>\n",
       "      <td>1.0</td>\n",
       "      <td>6834.0</td>\n",
       "      <td>1.0</td>\n",
       "    </tr>\n",
       "  </tbody>\n",
       "</table>\n",
       "<p>20157 rows × 25 columns</p>\n",
       "</div>"
      ],
      "text/plain": [
       "               id       date     price  bedrooms  bathrooms  sqft_living  \\\n",
       "0      7129300520 2014-10-13  221900.0         3          1       1180.0   \n",
       "1      6414100192 2014-12-09  538000.0         3          2       2570.0   \n",
       "2      5631500400 2015-02-25  180000.0         2          1        770.0   \n",
       "3      2487200875 2014-12-09  604000.0         4          3       1960.0   \n",
       "4      1954400510 2015-02-18  510000.0         3          2       1680.0   \n",
       "...           ...        ...       ...       ...        ...          ...   \n",
       "21608   263000018 2014-05-21  360000.0         3          2       1530.0   \n",
       "21609  6600060120 2015-02-23  400000.0         4          2       2310.0   \n",
       "21610  1523300141 2014-06-23  402101.0         2          0       1020.0   \n",
       "21611   291310100 2015-01-16  400000.0         3          2       1600.0   \n",
       "21612  1523300157 2014-10-15  325000.0         2          0       1020.0   \n",
       "\n",
       "       sqft_lot  floors  waterfront  view  ...  yr_renovated  zipcode  \\\n",
       "0        5650.0     1.0           0     0  ...             0    98178   \n",
       "1        7242.0     2.0           0     0  ...          1991    98125   \n",
       "2       10000.0     1.0           0     0  ...             0    98028   \n",
       "3        5000.0     1.0           0     0  ...             0    98136   \n",
       "4        8080.0     1.0           0     0  ...             0    98074   \n",
       "...         ...     ...         ...   ...  ...           ...      ...   \n",
       "21608    1131.0     3.0           0     0  ...             0    98103   \n",
       "21609    5813.0     2.0           0     0  ...             0    98146   \n",
       "21610    1350.0     2.0           0     0  ...             0    98144   \n",
       "21611    2388.0     2.0           0     0  ...             0    98027   \n",
       "21612    1076.0     2.0           0     0  ...             0    98144   \n",
       "\n",
       "           lat     long  sqft_living15  sqft_lot15  predicted_bedrooms  \\\n",
       "0      47.5112 -122.257           1340        5650                 3.0   \n",
       "1      47.7210 -122.319           1690        7639                 4.0   \n",
       "2      47.7379 -122.233           2720        8062                 3.0   \n",
       "3      47.5208 -122.393           1360        5000                 3.0   \n",
       "4      47.6168 -122.045           1800        7503                 3.0   \n",
       "...        ...      ...            ...         ...                 ...   \n",
       "21608  47.6993 -122.346           1530        1509                 3.0   \n",
       "21609  47.5107 -122.362           1830        7200                 4.0   \n",
       "21610  47.5944 -122.299           1020        2007                 3.0   \n",
       "21611  47.5345 -122.069           1410        1287                 3.0   \n",
       "21612  47.5941 -122.299           1020        1357                 3.0   \n",
       "\n",
       "       predicted_bathrooms  predicted_lot  predicted_living  \n",
       "0                      2.0         7302.0               1.0  \n",
       "1                      2.0        11371.0               1.0  \n",
       "2                      1.0         6102.0               1.0  \n",
       "3                      2.0         9586.0               1.0  \n",
       "4                      2.0         8766.0               1.0  \n",
       "...                    ...            ...               ...  \n",
       "21608                  2.0         8327.0               1.0  \n",
       "21609                  2.0        10610.0               1.0  \n",
       "21610                  1.0         6834.0               1.0  \n",
       "21611                  2.0         8532.0               1.0  \n",
       "21612                  1.0         6834.0               1.0  \n",
       "\n",
       "[20157 rows x 25 columns]"
      ]
     },
     "execution_count": 36,
     "metadata": {},
     "output_type": "execute_result"
    }
   ],
   "source": [
    "# adjust data types of imputed values\n",
    "\n",
    "house_df.astype({\"bedrooms\": int, \"bathrooms\": int})"
   ]
  },
  {
   "cell_type": "code",
   "execution_count": 37,
   "id": "c2eeeeef",
   "metadata": {},
   "outputs": [],
   "source": [
    "house_df = house_df.drop(columns=['predicted_bedrooms','predicted_bathrooms', 'predicted_lot', 'predicted_living'])"
   ]
  },
  {
   "cell_type": "code",
   "execution_count": 38,
   "id": "63adf6e4",
   "metadata": {},
   "outputs": [
    {
     "data": {
      "text/plain": [
       "(20157, 21)"
      ]
     },
     "execution_count": 38,
     "metadata": {},
     "output_type": "execute_result"
    }
   ],
   "source": [
    "house_df.head()\n",
    "house_df.shape"
   ]
  },
  {
   "cell_type": "markdown",
   "id": "ef71a4f2",
   "metadata": {},
   "source": [
    "##### Module:  Change Data Types <br>\n",
    "Purpose: Ensure that all data fields are expected type for analysis <br>\n",
    "Last Updated by Sanjay - 8/5 at 7pm<br>\n",
    "Previously Updated by: blank <br>"
   ]
  },
  {
   "cell_type": "code",
   "execution_count": 39,
   "id": "36f1aeda",
   "metadata": {},
   "outputs": [],
   "source": [
    "house_df = house_df.astype({\"id\": str, \"floors\": int, \"lat\": str,\"waterfront\": 'category',\"view\": 'category',\"condition\": 'category', \"grade\": 'category', 'zipcode' : str, 'long' : str , 'bedrooms' : int, 'bathrooms': int})\n",
    "#df = df.astype({\"a\": int, \"b\": complex})"
   ]
  },
  {
   "cell_type": "code",
   "execution_count": 40,
   "id": "27858fb9",
   "metadata": {},
   "outputs": [
    {
     "data": {
      "text/plain": [
       "id                       object\n",
       "date             datetime64[ns]\n",
       "price                   float64\n",
       "bedrooms                  int64\n",
       "bathrooms                 int64\n",
       "sqft_living             float64\n",
       "sqft_lot                float64\n",
       "floors                    int64\n",
       "waterfront             category\n",
       "view                   category\n",
       "condition              category\n",
       "grade                  category\n",
       "sqft_above                int64\n",
       "sqft_basement             int64\n",
       "yr_built                  int64\n",
       "yr_renovated              int64\n",
       "zipcode                  object\n",
       "lat                      object\n",
       "long                     object\n",
       "sqft_living15             int64\n",
       "sqft_lot15                int64\n",
       "dtype: object"
      ]
     },
     "execution_count": 40,
     "metadata": {},
     "output_type": "execute_result"
    }
   ],
   "source": [
    "house_df.dtypes"
   ]
  },
  {
   "cell_type": "code",
   "execution_count": 41,
   "id": "ffaec74f",
   "metadata": {
    "scrolled": false
   },
   "outputs": [
    {
     "data": {
      "text/html": [
       "<div>\n",
       "<style scoped>\n",
       "    .dataframe tbody tr th:only-of-type {\n",
       "        vertical-align: middle;\n",
       "    }\n",
       "\n",
       "    .dataframe tbody tr th {\n",
       "        vertical-align: top;\n",
       "    }\n",
       "\n",
       "    .dataframe thead th {\n",
       "        text-align: right;\n",
       "    }\n",
       "</style>\n",
       "<table border=\"1\" class=\"dataframe\">\n",
       "  <thead>\n",
       "    <tr style=\"text-align: right;\">\n",
       "      <th></th>\n",
       "      <th>id</th>\n",
       "      <th>date</th>\n",
       "      <th>price</th>\n",
       "      <th>bedrooms</th>\n",
       "      <th>bathrooms</th>\n",
       "      <th>sqft_living</th>\n",
       "      <th>sqft_lot</th>\n",
       "      <th>floors</th>\n",
       "      <th>waterfront</th>\n",
       "      <th>view</th>\n",
       "      <th>...</th>\n",
       "      <th>grade</th>\n",
       "      <th>sqft_above</th>\n",
       "      <th>sqft_basement</th>\n",
       "      <th>yr_built</th>\n",
       "      <th>yr_renovated</th>\n",
       "      <th>zipcode</th>\n",
       "      <th>lat</th>\n",
       "      <th>long</th>\n",
       "      <th>sqft_living15</th>\n",
       "      <th>sqft_lot15</th>\n",
       "    </tr>\n",
       "  </thead>\n",
       "  <tbody>\n",
       "    <tr>\n",
       "      <th>0</th>\n",
       "      <td>7129300520</td>\n",
       "      <td>2014-10-13</td>\n",
       "      <td>221900.0</td>\n",
       "      <td>3</td>\n",
       "      <td>1</td>\n",
       "      <td>1180.0</td>\n",
       "      <td>5650.0</td>\n",
       "      <td>1</td>\n",
       "      <td>0</td>\n",
       "      <td>0</td>\n",
       "      <td>...</td>\n",
       "      <td>7</td>\n",
       "      <td>1180</td>\n",
       "      <td>0</td>\n",
       "      <td>1955</td>\n",
       "      <td>0</td>\n",
       "      <td>98178</td>\n",
       "      <td>47.5112</td>\n",
       "      <td>-122.257</td>\n",
       "      <td>1340</td>\n",
       "      <td>5650</td>\n",
       "    </tr>\n",
       "    <tr>\n",
       "      <th>1</th>\n",
       "      <td>6414100192</td>\n",
       "      <td>2014-12-09</td>\n",
       "      <td>538000.0</td>\n",
       "      <td>3</td>\n",
       "      <td>2</td>\n",
       "      <td>2570.0</td>\n",
       "      <td>7242.0</td>\n",
       "      <td>2</td>\n",
       "      <td>0</td>\n",
       "      <td>0</td>\n",
       "      <td>...</td>\n",
       "      <td>7</td>\n",
       "      <td>2170</td>\n",
       "      <td>400</td>\n",
       "      <td>1951</td>\n",
       "      <td>1991</td>\n",
       "      <td>98125</td>\n",
       "      <td>47.721</td>\n",
       "      <td>-122.319</td>\n",
       "      <td>1690</td>\n",
       "      <td>7639</td>\n",
       "    </tr>\n",
       "    <tr>\n",
       "      <th>2</th>\n",
       "      <td>5631500400</td>\n",
       "      <td>2015-02-25</td>\n",
       "      <td>180000.0</td>\n",
       "      <td>2</td>\n",
       "      <td>1</td>\n",
       "      <td>770.0</td>\n",
       "      <td>10000.0</td>\n",
       "      <td>1</td>\n",
       "      <td>0</td>\n",
       "      <td>0</td>\n",
       "      <td>...</td>\n",
       "      <td>6</td>\n",
       "      <td>770</td>\n",
       "      <td>0</td>\n",
       "      <td>1933</td>\n",
       "      <td>0</td>\n",
       "      <td>98028</td>\n",
       "      <td>47.7379</td>\n",
       "      <td>-122.233</td>\n",
       "      <td>2720</td>\n",
       "      <td>8062</td>\n",
       "    </tr>\n",
       "    <tr>\n",
       "      <th>3</th>\n",
       "      <td>2487200875</td>\n",
       "      <td>2014-12-09</td>\n",
       "      <td>604000.0</td>\n",
       "      <td>4</td>\n",
       "      <td>3</td>\n",
       "      <td>1960.0</td>\n",
       "      <td>5000.0</td>\n",
       "      <td>1</td>\n",
       "      <td>0</td>\n",
       "      <td>0</td>\n",
       "      <td>...</td>\n",
       "      <td>7</td>\n",
       "      <td>1050</td>\n",
       "      <td>910</td>\n",
       "      <td>1965</td>\n",
       "      <td>0</td>\n",
       "      <td>98136</td>\n",
       "      <td>47.5208</td>\n",
       "      <td>-122.393</td>\n",
       "      <td>1360</td>\n",
       "      <td>5000</td>\n",
       "    </tr>\n",
       "    <tr>\n",
       "      <th>4</th>\n",
       "      <td>1954400510</td>\n",
       "      <td>2015-02-18</td>\n",
       "      <td>510000.0</td>\n",
       "      <td>3</td>\n",
       "      <td>2</td>\n",
       "      <td>1680.0</td>\n",
       "      <td>8080.0</td>\n",
       "      <td>1</td>\n",
       "      <td>0</td>\n",
       "      <td>0</td>\n",
       "      <td>...</td>\n",
       "      <td>8</td>\n",
       "      <td>1680</td>\n",
       "      <td>0</td>\n",
       "      <td>1987</td>\n",
       "      <td>0</td>\n",
       "      <td>98074</td>\n",
       "      <td>47.6168</td>\n",
       "      <td>-122.045</td>\n",
       "      <td>1800</td>\n",
       "      <td>7503</td>\n",
       "    </tr>\n",
       "  </tbody>\n",
       "</table>\n",
       "<p>5 rows × 21 columns</p>\n",
       "</div>"
      ],
      "text/plain": [
       "           id       date     price  bedrooms  bathrooms  sqft_living  \\\n",
       "0  7129300520 2014-10-13  221900.0         3          1       1180.0   \n",
       "1  6414100192 2014-12-09  538000.0         3          2       2570.0   \n",
       "2  5631500400 2015-02-25  180000.0         2          1        770.0   \n",
       "3  2487200875 2014-12-09  604000.0         4          3       1960.0   \n",
       "4  1954400510 2015-02-18  510000.0         3          2       1680.0   \n",
       "\n",
       "   sqft_lot  floors waterfront view  ... grade sqft_above  sqft_basement  \\\n",
       "0    5650.0       1          0    0  ...     7       1180              0   \n",
       "1    7242.0       2          0    0  ...     7       2170            400   \n",
       "2   10000.0       1          0    0  ...     6        770              0   \n",
       "3    5000.0       1          0    0  ...     7       1050            910   \n",
       "4    8080.0       1          0    0  ...     8       1680              0   \n",
       "\n",
       "   yr_built  yr_renovated  zipcode      lat      long sqft_living15  \\\n",
       "0      1955             0    98178  47.5112  -122.257          1340   \n",
       "1      1951          1991    98125   47.721  -122.319          1690   \n",
       "2      1933             0    98028  47.7379  -122.233          2720   \n",
       "3      1965             0    98136  47.5208  -122.393          1360   \n",
       "4      1987             0    98074  47.6168  -122.045          1800   \n",
       "\n",
       "   sqft_lot15  \n",
       "0        5650  \n",
       "1        7639  \n",
       "2        8062  \n",
       "3        5000  \n",
       "4        7503  \n",
       "\n",
       "[5 rows x 21 columns]"
      ]
     },
     "execution_count": 41,
     "metadata": {},
     "output_type": "execute_result"
    }
   ],
   "source": [
    "house_df.head()"
   ]
  },
  {
   "cell_type": "markdown",
   "id": "5971d8d4",
   "metadata": {},
   "source": [
    "##### Data Analysis and Visualization"
   ]
  },
  {
   "cell_type": "code",
   "execution_count": 42,
   "id": "22f69cd8",
   "metadata": {},
   "outputs": [
    {
     "data": {
      "text/plain": [
       "<AxesSubplot:>"
      ]
     },
     "execution_count": 42,
     "metadata": {},
     "output_type": "execute_result"
    },
    {
     "data": {
      "image/png": "[encoded data removed]",
      "text/plain": [
       "<Figure size 432x288 with 1 Axes>"
      ]
     },
     "metadata": {
      "needs_background": "light"
     },
     "output_type": "display_data"
    }
   ],
   "source": [
    "house_df.boxplot(column = ['price'])"
   ]
  },
  {
   "cell_type": "code",
   "execution_count": 43,
   "id": "d475e339",
   "metadata": {},
   "outputs": [
    {
     "data": {
      "text/plain": [
       "array([[<AxesSubplot:title={'center':'price'}>]], dtype=object)"
      ]
     },
     "execution_count": 43,
     "metadata": {},
     "output_type": "execute_result"
    },
    {
     "data": {
      "image/png": "[encoded data removed]",
      "text/plain": [
       "<Figure size 432x288 with 1 Axes>"
      ]
     },
     "metadata": {
      "needs_background": "light"
     },
     "output_type": "display_data"
    }
   ],
   "source": [
    "house_df.hist(column = ['price'])"
   ]
  },
  {
   "cell_type": "markdown",
   "id": "5e537758",
   "metadata": {},
   "source": [
    "The histogram doesn't show a normal distribution."
   ]
  },
  {
   "cell_type": "code",
   "execution_count": 44,
   "id": "f8e4a0d9",
   "metadata": {},
   "outputs": [
    {
     "data": {
      "text/plain": [
       "<matplotlib.collections.PathCollection at 0x13e58cd60>"
      ]
     },
     "execution_count": 44,
     "metadata": {},
     "output_type": "execute_result"
    },
    {
     "data": {
      "image/png": "[encoded data removed]",
      "text/plain": [
       "<Figure size 432x288 with 1 Axes>"
      ]
     },
     "metadata": {
      "needs_background": "light"
     },
     "output_type": "display_data"
    }
   ],
   "source": [
    "plt.scatter(house_df['price'],house_df['sqft_living'])"
   ]
  },
  {
   "cell_type": "markdown",
   "id": "9683ce21",
   "metadata": {},
   "source": [
    "The scatterplot between price and sqft_living shows a positive correlation."
   ]
  },
  {
   "cell_type": "code",
   "execution_count": 45,
   "id": "ed44ca65",
   "metadata": {},
   "outputs": [
    {
     "data": {
      "text/plain": [
       "array([[1.        , 0.52842473],\n",
       "       [0.52842473, 1.        ]])"
      ]
     },
     "execution_count": 45,
     "metadata": {},
     "output_type": "execute_result"
    }
   ],
   "source": [
    "corr_coef = np.corrcoef(house_df['price'],house_df['sqft_living'])\n",
    "corr_coef"
   ]
  },
  {
   "cell_type": "markdown",
   "id": "6926ee5b",
   "metadata": {},
   "source": [
    "The correlation coefficient between house price and the square ft living is 0.68"
   ]
  },
  {
   "cell_type": "code",
   "execution_count": 46,
   "id": "2ba14632",
   "metadata": {},
   "outputs": [
    {
     "data": {
      "text/plain": [
       "<matplotlib.collections.PathCollection at 0x13e5f9370>"
      ]
     },
     "execution_count": 46,
     "metadata": {},
     "output_type": "execute_result"
    },
    {
     "data": {
      "image/png": "[encoded data removed]",
      "text/plain": [
       "<Figure size 432x288 with 1 Axes>"
      ]
     },
     "metadata": {
      "needs_background": "light"
     },
     "output_type": "display_data"
    }
   ],
   "source": [
    "plt.scatter(house_df['price'],house_df['bedrooms'])"
   ]
  },
  {
   "cell_type": "code",
   "execution_count": 47,
   "id": "ebde142b",
   "metadata": {},
   "outputs": [],
   "source": [
    "houseprice_mean = house_df.groupby('zipcode')['price'].mean()"
   ]
  },
  {
   "cell_type": "code",
   "execution_count": 48,
   "id": "577a2cd4",
   "metadata": {},
   "outputs": [
    {
     "data": {
      "text/plain": [
       "zipcode\n",
       "98001    2.785344e+05\n",
       "98002    2.329468e+05\n",
       "98003    2.882460e+05\n",
       "98004    1.010166e+06\n",
       "98005    7.541845e+05\n",
       "Name: price, dtype: float64"
      ]
     },
     "execution_count": 48,
     "metadata": {},
     "output_type": "execute_result"
    }
   ],
   "source": [
    "houseprice_mean.head()"
   ]
  },
  {
   "cell_type": "code",
   "execution_count": 49,
   "id": "6c47a0fc",
   "metadata": {},
   "outputs": [
    {
     "data": {
      "image/png": "[encoded data removed]",
      "text/plain": [
       "<Figure size 1080x360 with 1 Axes>"
      ]
     },
     "metadata": {
      "needs_background": "light"
     },
     "output_type": "display_data"
    }
   ],
   "source": [
    "my_plot = houseprice_mean.plot(kind = 'bar',figsize = (15,5))"
   ]
  },
  {
   "cell_type": "code",
   "execution_count": 50,
   "id": "219098ef",
   "metadata": {},
   "outputs": [
    {
     "data": {
      "text/plain": [
       "70"
      ]
     },
     "execution_count": 50,
     "metadata": {},
     "output_type": "execute_result"
    }
   ],
   "source": [
    "houseprice_mean.shape[0]"
   ]
  },
  {
   "cell_type": "code",
   "execution_count": 51,
   "id": "0ea92f75",
   "metadata": {},
   "outputs": [
    {
     "data": {
      "text/html": [
       "<div>\n",
       "<style scoped>\n",
       "    .dataframe tbody tr th:only-of-type {\n",
       "        vertical-align: middle;\n",
       "    }\n",
       "\n",
       "    .dataframe tbody tr th {\n",
       "        vertical-align: top;\n",
       "    }\n",
       "\n",
       "    .dataframe thead th {\n",
       "        text-align: right;\n",
       "    }\n",
       "</style>\n",
       "<table border=\"1\" class=\"dataframe\">\n",
       "  <thead>\n",
       "    <tr style=\"text-align: right;\">\n",
       "      <th></th>\n",
       "      <th>id</th>\n",
       "      <th>date</th>\n",
       "      <th>price</th>\n",
       "      <th>bedrooms</th>\n",
       "      <th>bathrooms</th>\n",
       "      <th>sqft_living</th>\n",
       "      <th>sqft_lot</th>\n",
       "      <th>floors</th>\n",
       "      <th>waterfront</th>\n",
       "      <th>view</th>\n",
       "      <th>...</th>\n",
       "      <th>grade</th>\n",
       "      <th>sqft_above</th>\n",
       "      <th>sqft_basement</th>\n",
       "      <th>yr_built</th>\n",
       "      <th>yr_renovated</th>\n",
       "      <th>zipcode</th>\n",
       "      <th>lat</th>\n",
       "      <th>long</th>\n",
       "      <th>sqft_living15</th>\n",
       "      <th>sqft_lot15</th>\n",
       "    </tr>\n",
       "  </thead>\n",
       "  <tbody>\n",
       "    <tr>\n",
       "      <th>0</th>\n",
       "      <td>7129300520</td>\n",
       "      <td>2014-10-13</td>\n",
       "      <td>221900.0</td>\n",
       "      <td>3</td>\n",
       "      <td>1</td>\n",
       "      <td>1180.0</td>\n",
       "      <td>5650.0</td>\n",
       "      <td>1</td>\n",
       "      <td>0</td>\n",
       "      <td>0</td>\n",
       "      <td>...</td>\n",
       "      <td>7</td>\n",
       "      <td>1180</td>\n",
       "      <td>0</td>\n",
       "      <td>1955</td>\n",
       "      <td>0</td>\n",
       "      <td>98178</td>\n",
       "      <td>47.5112</td>\n",
       "      <td>-122.257</td>\n",
       "      <td>1340</td>\n",
       "      <td>5650</td>\n",
       "    </tr>\n",
       "    <tr>\n",
       "      <th>1</th>\n",
       "      <td>6414100192</td>\n",
       "      <td>2014-12-09</td>\n",
       "      <td>538000.0</td>\n",
       "      <td>3</td>\n",
       "      <td>2</td>\n",
       "      <td>2570.0</td>\n",
       "      <td>7242.0</td>\n",
       "      <td>2</td>\n",
       "      <td>0</td>\n",
       "      <td>0</td>\n",
       "      <td>...</td>\n",
       "      <td>7</td>\n",
       "      <td>2170</td>\n",
       "      <td>400</td>\n",
       "      <td>1951</td>\n",
       "      <td>1991</td>\n",
       "      <td>98125</td>\n",
       "      <td>47.721</td>\n",
       "      <td>-122.319</td>\n",
       "      <td>1690</td>\n",
       "      <td>7639</td>\n",
       "    </tr>\n",
       "    <tr>\n",
       "      <th>2</th>\n",
       "      <td>5631500400</td>\n",
       "      <td>2015-02-25</td>\n",
       "      <td>180000.0</td>\n",
       "      <td>2</td>\n",
       "      <td>1</td>\n",
       "      <td>770.0</td>\n",
       "      <td>10000.0</td>\n",
       "      <td>1</td>\n",
       "      <td>0</td>\n",
       "      <td>0</td>\n",
       "      <td>...</td>\n",
       "      <td>6</td>\n",
       "      <td>770</td>\n",
       "      <td>0</td>\n",
       "      <td>1933</td>\n",
       "      <td>0</td>\n",
       "      <td>98028</td>\n",
       "      <td>47.7379</td>\n",
       "      <td>-122.233</td>\n",
       "      <td>2720</td>\n",
       "      <td>8062</td>\n",
       "    </tr>\n",
       "    <tr>\n",
       "      <th>3</th>\n",
       "      <td>2487200875</td>\n",
       "      <td>2014-12-09</td>\n",
       "      <td>604000.0</td>\n",
       "      <td>4</td>\n",
       "      <td>3</td>\n",
       "      <td>1960.0</td>\n",
       "      <td>5000.0</td>\n",
       "      <td>1</td>\n",
       "      <td>0</td>\n",
       "      <td>0</td>\n",
       "      <td>...</td>\n",
       "      <td>7</td>\n",
       "      <td>1050</td>\n",
       "      <td>910</td>\n",
       "      <td>1965</td>\n",
       "      <td>0</td>\n",
       "      <td>98136</td>\n",
       "      <td>47.5208</td>\n",
       "      <td>-122.393</td>\n",
       "      <td>1360</td>\n",
       "      <td>5000</td>\n",
       "    </tr>\n",
       "    <tr>\n",
       "      <th>4</th>\n",
       "      <td>1954400510</td>\n",
       "      <td>2015-02-18</td>\n",
       "      <td>510000.0</td>\n",
       "      <td>3</td>\n",
       "      <td>2</td>\n",
       "      <td>1680.0</td>\n",
       "      <td>8080.0</td>\n",
       "      <td>1</td>\n",
       "      <td>0</td>\n",
       "      <td>0</td>\n",
       "      <td>...</td>\n",
       "      <td>8</td>\n",
       "      <td>1680</td>\n",
       "      <td>0</td>\n",
       "      <td>1987</td>\n",
       "      <td>0</td>\n",
       "      <td>98074</td>\n",
       "      <td>47.6168</td>\n",
       "      <td>-122.045</td>\n",
       "      <td>1800</td>\n",
       "      <td>7503</td>\n",
       "    </tr>\n",
       "  </tbody>\n",
       "</table>\n",
       "<p>5 rows × 21 columns</p>\n",
       "</div>"
      ],
      "text/plain": [
       "           id       date     price  bedrooms  bathrooms  sqft_living  \\\n",
       "0  7129300520 2014-10-13  221900.0         3          1       1180.0   \n",
       "1  6414100192 2014-12-09  538000.0         3          2       2570.0   \n",
       "2  5631500400 2015-02-25  180000.0         2          1        770.0   \n",
       "3  2487200875 2014-12-09  604000.0         4          3       1960.0   \n",
       "4  1954400510 2015-02-18  510000.0         3          2       1680.0   \n",
       "\n",
       "   sqft_lot  floors waterfront view  ... grade sqft_above  sqft_basement  \\\n",
       "0    5650.0       1          0    0  ...     7       1180              0   \n",
       "1    7242.0       2          0    0  ...     7       2170            400   \n",
       "2   10000.0       1          0    0  ...     6        770              0   \n",
       "3    5000.0       1          0    0  ...     7       1050            910   \n",
       "4    8080.0       1          0    0  ...     8       1680              0   \n",
       "\n",
       "   yr_built  yr_renovated  zipcode      lat      long sqft_living15  \\\n",
       "0      1955             0    98178  47.5112  -122.257          1340   \n",
       "1      1951          1991    98125   47.721  -122.319          1690   \n",
       "2      1933             0    98028  47.7379  -122.233          2720   \n",
       "3      1965             0    98136  47.5208  -122.393          1360   \n",
       "4      1987             0    98074  47.6168  -122.045          1800   \n",
       "\n",
       "   sqft_lot15  \n",
       "0        5650  \n",
       "1        7639  \n",
       "2        8062  \n",
       "3        5000  \n",
       "4        7503  \n",
       "\n",
       "[5 rows x 21 columns]"
      ]
     },
     "execution_count": 51,
     "metadata": {},
     "output_type": "execute_result"
    }
   ],
   "source": [
    "house_df.head()"
   ]
  },
  {
   "cell_type": "code",
   "execution_count": 52,
   "id": "05ba7c45",
   "metadata": {},
   "outputs": [],
   "source": [
    "house_df1 = house_df.dropna()"
   ]
  },
  {
   "cell_type": "code",
   "execution_count": 53,
   "id": "01ad0b37",
   "metadata": {},
   "outputs": [
    {
     "data": {
      "text/plain": [
       "(20157, 21)"
      ]
     },
     "execution_count": 53,
     "metadata": {},
     "output_type": "execute_result"
    }
   ],
   "source": [
    "house_df1.shape"
   ]
  },
  {
   "cell_type": "code",
   "execution_count": 54,
   "id": "9f281773",
   "metadata": {},
   "outputs": [
    {
     "data": {
      "text/plain": [
       "array([3, 3, 2, ..., 2, 3, 2])"
      ]
     },
     "execution_count": 54,
     "metadata": {},
     "output_type": "execute_result"
    }
   ],
   "source": [
    "bdm = house_df1['bedrooms']\n",
    "bdmarray = bdm.to_numpy()\n",
    "bdmarray"
   ]
  },
  {
   "cell_type": "code",
   "execution_count": 55,
   "id": "de03e0d6",
   "metadata": {},
   "outputs": [
    {
     "ename": "KeyError",
     "evalue": "'sqft_                                                                                                                                                                                                                                                                                                                                                                                                                                                                                                                                                                                                      living'",
     "output_type": "error",
     "traceback": [
      "\u001b[0;31m---------------------------------------------------------------------------\u001b[0m",
      "\u001b[0;31mKeyError\u001b[0m                                  Traceback (most recent call last)",
      "\u001b[0;32m~/opt/anaconda3/envs/ADS500B/lib/python3.9/site-packages/pandas/core/indexes/base.py\u001b[0m in \u001b[0;36mget_loc\u001b[0;34m(self, key, method, tolerance)\u001b[0m\n\u001b[1;32m   3080\u001b[0m             \u001b[0;32mtry\u001b[0m\u001b[0;34m:\u001b[0m\u001b[0;34m\u001b[0m\u001b[0;34m\u001b[0m\u001b[0m\n\u001b[0;32m-> 3081\u001b[0;31m                 \u001b[0;32mreturn\u001b[0m \u001b[0mself\u001b[0m\u001b[0;34m.\u001b[0m\u001b[0m_engine\u001b[0m\u001b[0;34m.\u001b[0m\u001b[0mget_loc\u001b[0m\u001b[0;34m(\u001b[0m\u001b[0mcasted_key\u001b[0m\u001b[0;34m)\u001b[0m\u001b[0;34m\u001b[0m\u001b[0;34m\u001b[0m\u001b[0m\n\u001b[0m\u001b[1;32m   3082\u001b[0m             \u001b[0;32mexcept\u001b[0m \u001b[0mKeyError\u001b[0m \u001b[0;32mas\u001b[0m \u001b[0merr\u001b[0m\u001b[0;34m:\u001b[0m\u001b[0;34m\u001b[0m\u001b[0;34m\u001b[0m\u001b[0m\n",
      "\u001b[0;32mpandas/_libs/index.pyx\u001b[0m in \u001b[0;36mpandas._libs.index.IndexEngine.get_loc\u001b[0;34m()\u001b[0m\n",
      "\u001b[0;32mpandas/_libs/index.pyx\u001b[0m in \u001b[0;36mpandas._libs.index.IndexEngine.get_loc\u001b[0;34m()\u001b[0m\n",
      "\u001b[0;32mpandas/_libs/hashtable_class_helper.pxi\u001b[0m in \u001b[0;36mpandas._libs.hashtable.PyObjectHashTable.get_item\u001b[0;34m()\u001b[0m\n",
      "\u001b[0;32mpandas/_libs/hashtable_class_helper.pxi\u001b[0m in \u001b[0;36mpandas._libs.hashtable.PyObjectHashTable.get_item\u001b[0;34m()\u001b[0m\n",
      "\u001b[0;31mKeyError\u001b[0m: 'sqft_                                                                                                                                                                                                                                                                                                                                                                                                                                                                                                                                                                                                      living'",
      "\nThe above exception was the direct cause of the following exception:\n",
      "\u001b[0;31mKeyError\u001b[0m                                  Traceback (most recent call last)",
      "\u001b[0;32m/var/folders/s6/5rzdndv95rd5zjclx1k9v1qw0000gn/T/ipykernel_4019/3570828640.py\u001b[0m in \u001b[0;36m<module>\u001b[0;34m\u001b[0m\n\u001b[0;32m----> 1\u001b[0;31m \u001b[0msqftliv\u001b[0m \u001b[0;34m=\u001b[0m \u001b[0mhouse_df1\u001b[0m\u001b[0;34m[\u001b[0m\u001b[0;34m'sqft_                                                                                                                                                                                                                                                                                                                                                                                                                                                                                                                                                                                                      living'\u001b[0m\u001b[0;34m]\u001b[0m\u001b[0;34m\u001b[0m\u001b[0;34m\u001b[0m\u001b[0m\n\u001b[0m\u001b[1;32m      2\u001b[0m \u001b[0msqftlivarray\u001b[0m \u001b[0;34m=\u001b[0m \u001b[0msqftliv\u001b[0m\u001b[0;34m.\u001b[0m\u001b[0mto_numpy\u001b[0m\u001b[0;34m(\u001b[0m\u001b[0;34m)\u001b[0m\u001b[0;34m.\u001b[0m\u001b[0mreshape\u001b[0m\u001b[0;34m(\u001b[0m\u001b[0;34m(\u001b[0m\u001b[0;34m-\u001b[0m\u001b[0;36m1\u001b[0m\u001b[0;34m,\u001b[0m \u001b[0;36m1\u001b[0m\u001b[0;34m)\u001b[0m\u001b[0;34m)\u001b[0m\u001b[0;34m\u001b[0m\u001b[0;34m\u001b[0m\u001b[0m\n\u001b[1;32m      3\u001b[0m \u001b[0msqftlivarray\u001b[0m\u001b[0;34m\u001b[0m\u001b[0;34m\u001b[0m\u001b[0m\n",
      "\u001b[0;32m~/opt/anaconda3/envs/ADS500B/lib/python3.9/site-packages/pandas/core/frame.py\u001b[0m in \u001b[0;36m__getitem__\u001b[0;34m(self, key)\u001b[0m\n\u001b[1;32m   3022\u001b[0m             \u001b[0;32mif\u001b[0m \u001b[0mself\u001b[0m\u001b[0;34m.\u001b[0m\u001b[0mcolumns\u001b[0m\u001b[0;34m.\u001b[0m\u001b[0mnlevels\u001b[0m \u001b[0;34m>\u001b[0m \u001b[0;36m1\u001b[0m\u001b[0;34m:\u001b[0m\u001b[0;34m\u001b[0m\u001b[0;34m\u001b[0m\u001b[0m\n\u001b[1;32m   3023\u001b[0m                 \u001b[0;32mreturn\u001b[0m \u001b[0mself\u001b[0m\u001b[0;34m.\u001b[0m\u001b[0m_getitem_multilevel\u001b[0m\u001b[0;34m(\u001b[0m\u001b[0mkey\u001b[0m\u001b[0;34m)\u001b[0m\u001b[0;34m\u001b[0m\u001b[0;34m\u001b[0m\u001b[0m\n\u001b[0;32m-> 3024\u001b[0;31m             \u001b[0mindexer\u001b[0m \u001b[0;34m=\u001b[0m \u001b[0mself\u001b[0m\u001b[0;34m.\u001b[0m\u001b[0mcolumns\u001b[0m\u001b[0;34m.\u001b[0m\u001b[0mget_loc\u001b[0m\u001b[0;34m(\u001b[0m\u001b[0mkey\u001b[0m\u001b[0;34m)\u001b[0m\u001b[0;34m\u001b[0m\u001b[0;34m\u001b[0m\u001b[0m\n\u001b[0m\u001b[1;32m   3025\u001b[0m             \u001b[0;32mif\u001b[0m \u001b[0mis_integer\u001b[0m\u001b[0;34m(\u001b[0m\u001b[0mindexer\u001b[0m\u001b[0;34m)\u001b[0m\u001b[0;34m:\u001b[0m\u001b[0;34m\u001b[0m\u001b[0;34m\u001b[0m\u001b[0m\n\u001b[1;32m   3026\u001b[0m                 \u001b[0mindexer\u001b[0m \u001b[0;34m=\u001b[0m \u001b[0;34m[\u001b[0m\u001b[0mindexer\u001b[0m\u001b[0;34m]\u001b[0m\u001b[0;34m\u001b[0m\u001b[0;34m\u001b[0m\u001b[0m\n",
      "\u001b[0;32m~/opt/anaconda3/envs/ADS500B/lib/python3.9/site-packages/pandas/core/indexes/base.py\u001b[0m in \u001b[0;36mget_loc\u001b[0;34m(self, key, method, tolerance)\u001b[0m\n\u001b[1;32m   3081\u001b[0m                 \u001b[0;32mreturn\u001b[0m \u001b[0mself\u001b[0m\u001b[0;34m.\u001b[0m\u001b[0m_engine\u001b[0m\u001b[0;34m.\u001b[0m\u001b[0mget_loc\u001b[0m\u001b[0;34m(\u001b[0m\u001b[0mcasted_key\u001b[0m\u001b[0;34m)\u001b[0m\u001b[0;34m\u001b[0m\u001b[0;34m\u001b[0m\u001b[0m\n\u001b[1;32m   3082\u001b[0m             \u001b[0;32mexcept\u001b[0m \u001b[0mKeyError\u001b[0m \u001b[0;32mas\u001b[0m \u001b[0merr\u001b[0m\u001b[0;34m:\u001b[0m\u001b[0;34m\u001b[0m\u001b[0;34m\u001b[0m\u001b[0m\n\u001b[0;32m-> 3083\u001b[0;31m                 \u001b[0;32mraise\u001b[0m \u001b[0mKeyError\u001b[0m\u001b[0;34m(\u001b[0m\u001b[0mkey\u001b[0m\u001b[0;34m)\u001b[0m \u001b[0;32mfrom\u001b[0m \u001b[0merr\u001b[0m\u001b[0;34m\u001b[0m\u001b[0;34m\u001b[0m\u001b[0m\n\u001b[0m\u001b[1;32m   3084\u001b[0m \u001b[0;34m\u001b[0m\u001b[0m\n\u001b[1;32m   3085\u001b[0m         \u001b[0;32mif\u001b[0m \u001b[0mtolerance\u001b[0m \u001b[0;32mis\u001b[0m \u001b[0;32mnot\u001b[0m \u001b[0;32mNone\u001b[0m\u001b[0;34m:\u001b[0m\u001b[0;34m\u001b[0m\u001b[0;34m\u001b[0m\u001b[0m\n",
      "\u001b[0;31mKeyError\u001b[0m: 'sqft_                                                                                                                                                                                                                                                                                                                                                                                                                                                                                                                                                                                                      living'"
     ]
    }
   ],
   "source": [
    "sqftliv = house_df1['sqft_                                                                                                                                                                                                                                                                                                                                                                                                                                                                                                                                                                                                      living']\n",
    "sqftlivarray = sqftliv.to_numpy().reshape((-1, 1))\n",
    "sqftlivarray"
   ]
  },
  {
   "cell_type": "code",
   "execution_count": null,
   "id": "d4629e37",
   "metadata": {},
   "outputs": [],
   "source": [
    "model = LinearRegression().fit(sqftlivarray, bdmarray)"
   ]
  },
  {
   "cell_type": "code",
   "execution_count": null,
   "id": "679bdfdf",
   "metadata": {},
   "outputs": [],
   "source": [
    "print('coefficient of determination:', model.score(sqftlivarray, bdmarray))"
   ]
  },
  {
   "cell_type": "code",
   "execution_count": null,
   "id": "e3350020",
   "metadata": {},
   "outputs": [],
   "source": [
    "bdm_predict = model.predict(sqftlivarray)\n",
    "print('predicted response:', bdm_predict, sep = '\\n')"
   ]
  },
  {
   "cell_type": "markdown",
   "id": "bb2c432b",
   "metadata": {},
   "source": [
    "##### Module: Visualization Correlation \n",
    "\n",
    "Plotting a heat map based on the correlation of the housing market\n",
    "\n"
   ]
  },
  {
   "cell_type": "code",
   "execution_count": null,
   "id": "de341ba5",
   "metadata": {
    "scrolled": false
   },
   "outputs": [],
   "source": [
    "#Uses a seaborn heat map based on the correlation of the house dataframe\n",
    "\n",
    "#Correlates the dataframe into a matrix\n",
    "corr = house_df1.corr()\n",
    "\n",
    "\n",
    "\n",
    "#Setups the axis of the matplot lib figure\n",
    "\n",
    "#Color codes the correlation matrix\n",
    "\n",
    "\n",
    "plt.figure(figsize=(20, 17))\n",
    "\n",
    "matrix = np.triu(corr)\n",
    "\n",
    "ax = sns.heatmap(corr, annot = True , cmap = \"rocket\")\n",
    "bottom, top = ax. get_ylim()\n",
    "\n",
    "ax.set_ylim(bottom + 0.5, top - 0.5)\n",
    "\n"
   ]
  },
  {
   "cell_type": "markdown",
   "id": "a4553a51",
   "metadata": {},
   "source": [
    "##### Module: Reduction of Redundant data and Performing Need Based Discretization\n",
    "\n",
    "Checking for Variance inflation factor, and summarizing report to find R^2 values \n",
    "\n",
    "Check for VIF(Variance inflation factor) to detect multicollinearity in regression analysis. Check between highest correlation with price and sqft living, then check VIF for sqft_living and sqft_above.\n",
    "\n",
    "Need to remove objects/categories/datetime columns from list to prevent strings from being used from VIF.\n"
   ]
  },
  {
   "cell_type": "code",
   "execution_count": null,
   "id": "32d8e820",
   "metadata": {},
   "outputs": [],
   "source": [
    "house_df.dtypes"
   ]
  },
  {
   "cell_type": "code",
   "execution_count": null,
   "id": "00ec5a9c",
   "metadata": {},
   "outputs": [],
   "source": [
    "for col in house_df.columns:\n",
    "    print(col)"
   ]
  },
  {
   "cell_type": "code",
   "execution_count": null,
   "id": "f4a1ab3a",
   "metadata": {},
   "outputs": [],
   "source": [
    "print(house_df)"
   ]
  },
  {
   "cell_type": "code",
   "execution_count": null,
   "id": "a0d88e4c",
   "metadata": {},
   "outputs": [],
   "source": [
    "\n",
    "X = house_df.drop(columns = ['waterfront', 'view', 'date', 'id', 'condition', 'grade', 'zipcode', 'lat', 'long'])\n",
    "\n",
    "#VIF dataframe\n",
    "#https://www.geeksforgeeks.org/detecting-multicollinearity-with-vif-python/\n",
    "\n",
    "vif_data = pd.DataFrame()\n",
    "\n",
    "vif_data[\"VIF\"] = [variance_inflation_factor(X.values, i) for i in range(X.shape[1])]\n",
    "\n",
    "vif_data[\"Feature\"] = X.columns\n",
    "\n",
    "print(vif_data)\n",
    "\n",
    "\n",
    "# The higher the VIF value, would indicate a higher correlation. \n",
    "# As sqft_living and sqft_above are pretty much similar since they \n",
    "# take the same mount of square footage. only difference is that the \n",
    "# sqft_above takes into account the footageof the basement. Research papers\n",
    "# consider a VIF > 10 as an indicator of multicollinearity"
   ]
  },
  {
   "cell_type": "code",
   "execution_count": null,
   "id": "f60012ae",
   "metadata": {
    "scrolled": false
   },
   "outputs": [],
   "source": [
    "with sns.plotting_context(\"notebook\", font_scale = 2.5):\n",
    "    g = sns.pairplot(house_df, hue = 'bedrooms', palette = 'tab20', size = 6)\n",
    "    g.set(xticklabels = []);"
   ]
  },
  {
   "cell_type": "markdown",
   "id": "98bead78",
   "metadata": {},
   "source": [
    "##### Cleaning data and Aggregating\n",
    "\n",
    "Plots the dataframe after dropping columns that do not have correlation to save computing power and prevent overfitting when"
   ]
  },
  {
   "cell_type": "code",
   "execution_count": null,
   "id": "eac18958",
   "metadata": {},
   "outputs": [],
   "source": [
    "\n",
    "#Excludes data that do not have much correlation, saves both computing power and prevents overfitting when making a mulitple regression value.\n",
    "\n",
    "with sns.plotting_context(\"notebook\", font_scale = 3):\n",
    "    g = sns.pairplot(house_df[['price', 'sqft_lot', 'sqft_above', 'sqft_living', 'bedrooms', 'bathrooms', 'sqft_living15']], hue = 'bedrooms', palette = 'tab20c', size = 5)\n",
    "    g.set(xticklabels = []);"
   ]
  },
  {
   "cell_type": "code",
   "execution_count": null,
   "id": "e9e2127d",
   "metadata": {},
   "outputs": [],
   "source": [
    "#Defining data to work with. The inputs (regressors, x) and output (predictor,y) should be arrays\n",
    "\n",
    "house_df.drop(['id', 'date', 'lat', 'zipcode', 'long', 'yr_renovated', 'yr_built','waterfront','view'], axis = 1, inplace = True)"
   ]
  },
  {
   "cell_type": "code",
   "execution_count": null,
   "id": "3d850246",
   "metadata": {},
   "outputs": [],
   "source": [
    "house_df.columns\n",
    "\n",
    "house_df.head()"
   ]
  },
  {
   "cell_type": "code",
   "execution_count": null,
   "id": "aa642659",
   "metadata": {},
   "outputs": [],
   "source": []
  },
  {
   "cell_type": "code",
   "execution_count": null,
   "id": "c9de8cbb",
   "metadata": {},
   "outputs": [],
   "source": [
    "with sns.plotting_context(\"notebook\", font_scale = 3):\n",
    "    g = sns.pairplot(house_df[['price', 'sqft_lot', 'bedrooms', 'sqft_lot15']], hue = 'bedrooms', palette = 'tab20c', size = 5)\n",
    "    g.set(xticklabels = []);"
   ]
  },
  {
   "cell_type": "code",
   "execution_count": null,
   "id": "96352f51",
   "metadata": {},
   "outputs": [],
   "source": [
    "# Preparing X and Y plots for the regression model between price and sqft_lot\n",
    "\n",
    "\n",
    "\n",
    "# create linear regression object\n",
    "regr = LinearRegression()\n",
    "\n",
    "\n",
    "#fit linear regression\n",
    "regr.fit(house_df[['sqft_lot', 'sqft_lot15', 'sqft_basement']], house_df[['price']])\n",
    "\n",
    "\n",
    "#prints intercept of the best fit line\n",
    "print(regr.intercept_)\n",
    "\n",
    "\n",
    "#prints the slope of the best fit line against 'sqft_lot', 'sqft_lot15', 'sqft_basement' against price\n",
    "print(regr.coef_)\n",
    "\n",
    "\n",
    "\n",
    "\n",
    "\n"
   ]
  },
  {
   "cell_type": "code",
   "execution_count": null,
   "id": "9fa3cbcf",
   "metadata": {
    "scrolled": true
   },
   "outputs": [],
   "source": [
    "#imports statsmodels api to find relational R-squared values\n",
    "#Uses the least Squares method and OLS model.\n",
    "import statsmodels.api as sm\n",
    "\n",
    "#Compiles a list of house_df to find the related coefficients between price and the other columns.\n",
    "#sm.add_constant includes the interecept value to help center the value.\n",
    "x = house_df[['sqft_lot', 'sqft_lot15', 'sqft_basement']]\n",
    "y = house_df[['price']]\n",
    "x = sm.add_constant(x)\n",
    "\n",
    "model = sm.OLS(y,x).fit()\n",
    "predictions = model.predict(x)\n",
    "model.summary()"
   ]
  },
  {
   "cell_type": "code",
   "execution_count": null,
   "id": "0b576666",
   "metadata": {},
   "outputs": [],
   "source": [
    "#Uses a seaborn heat map based ont the correlation of the house dataframe\n",
    "\n",
    "\n",
    "corr = house_df.corr()\n",
    "\n",
    "ax = sns.heatmap(\n",
    "    corr, \n",
    "    vmin = -1, vmax=1, center=0,\n",
    "    cmap = sns.color_palette(\"viridis\", as_cmap = True),\n",
    "    square = True\n",
    ")\n",
    "ax.set_xticklabels(ax.get_xticklabels(), rotation=45 ,horizontalalignment='right'\n",
    ");\n",
    "\n",
    "with sns.plotting_context(\"notebook\", font_scale = 2.5):\n",
    "    g = sns.pairplot(house_df, hue = 'bedrooms', palette = 'tab20', size = 6)\n",
    "    g.set(xticklabels = []);\n",
    "\n",
    "\n",
    "#Excludes data that do not have much correlation, saves both computing power and prevents overfitting when making a mulitple regression value.\n",
    "\n",
    "with sns.plotting_context(\"notebook\", font_scale = 3):\n",
    "    g = sns.pairplot(house_df[['price', 'sqft_lot', 'sqft_above', 'sqft_living', 'bedrooms', 'bathrooms', 'sqft_living15']], hue = 'bedrooms', palette = 'tab20c', size = 5)\n",
    "    g.set(xticklabels = []);\n",
    "\n",
    "#Defining data to work with. The inputs (regressors, x) and output (predictor,y) should be arrays\n",
    "\n",
    "house_df.drop(['id', 'date', 'lat', 'zipcode', 'long', 'yr_renovated', 'yr_built','waterfront','view'], axis = 1, inplace = True)\n",
    "\n",
    "house_df.columns\n",
    "\n",
    "house_df.head()\n",
    "\n",
    "#check for VIF(Variance inflation factor) to detect multicollinearity in regression analysis. Check between highest correlation with price and sqft living, then check VIF for sqft_living and sqft_above.\n",
    "\n",
    "X = house_df\n",
    "\n",
    "#VIF dataframe\n",
    "#https://www.geeksforgeeks.org/detecting-multicollinearity-with-vif-python/\n",
    "\n",
    "vif_data = pd.DataFrame()\n",
    "vif_data[\"feeature\"] = X.columns\n",
    "vif_data[\"VIF\"] = [variance_inflation_factor(X.values, i)\n",
    "                    for i in range(len(X.columns))]\n",
    "print(vif_data)\n",
    "\n",
    "\n",
    "#The higher the VIF value, would indicate a higher correlation. \n",
    "#As sqft_living and sqft_above are pretty much similar since they \n",
    "#take the same mount of square footage. only difference is that the \n",
    "#sqft_above takes into account the footageof the basement. Research papers\n",
    "#consider a VIF >10 as an indicator of multicollinearity\n",
    "\n",
    "with sns.plotting_context(\"notebook\", font_scale = 3):\n",
    "    g = sns.pairplot(house_df[['price', 'sqft_lot', 'bedrooms', 'sqft_lot15']], hue = 'bedrooms', palette = 'tab20c', size = 5)\n",
    "    g.set(xticklabels = []);\n",
    "\n",
    "# Preparing X and Y plots for the regression model between price and sqft_lot\n",
    "\n",
    "\n",
    "\n",
    "# create linear regression object\n",
    "regr = LinearRegression()\n",
    "\n",
    "\n",
    "#fit linear regression\n",
    "regr.fit(house_df[['sqft_lot', 'sqft_lot15', 'sqft_basement']], house_df[['price']])\n",
    "\n",
    "\n",
    "#prints intercept of the best fit line\n",
    "print(regr.intercept_)\n",
    "\n",
    "\n",
    "#prints the slope of the best fit line against 'sqft_lot', 'sqft_lot15', 'sqft_basement' against price\n",
    "print(regr.coef_)\n",
    "\n",
    "\n",
    "\n",
    "\n",
    "\n",
    "\n",
    "\n",
    "#imports statsmodels api to find relational R-squared values\n",
    "#Uses the least Squares method and OLS model.\n",
    "import statsmodels.api as sm\n",
    "\n",
    "#Compiles a list of house_df to find the related coefficients between price and the other columns.\n",
    "#sm.add_constant includes the interecept value to help center the value.\n",
    "x = house_df[['sqft_lot', 'sqft_lot15', 'sqft_basement']]\n",
    "y = house_df[['price']]\n",
    "x = sm.add_constant(x)\n",
    "\n",
    "model = sm.OLS(y,x).fit()\n",
    "predictions = model.predict(x)\n",
    "model.summary()"
   ]
  }
 ],
 "metadata": {
  "kernelspec": {
   "display_name": "Python 3 (ipykernel)",
   "language": "python",
   "name": "python3"
  },
  "language_info": {
   "codemirror_mode": {
    "name": "ipython",
    "version": 3
   },
   "file_extension": ".py",
   "mimetype": "text/x-python",
   "name": "python",
   "nbconvert_exporter": "python",
   "pygments_lexer": "ipython3",
   "version": "3.9.6"
  }
 },
 "nbformat": 4,
 "nbformat_minor": 5
}
