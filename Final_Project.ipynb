{
 "cells": [
  {
   "cell_type": "markdown",
   "id": "0eb21610",
   "metadata": {},
   "source": [
    "### ADS 500B - Final Project - Group 6\n",
    "#### Sanjay Regi Philip, Maha Jayapal, Luke Hiura"
   ]
  },
  {
   "cell_type": "markdown",
   "id": "4a609997",
   "metadata": {},
   "source": [
    "#### Library and File Import"
   ]
  },
  {
   "cell_type": "markdown",
   "id": "710e913e",
   "metadata": {},
   "source": [
    "Module: Library Import <br>\n",
    "Purpose: To import the neceassary libraries to use for EDA and Analysis <br>\n",
    "Last Updated by Sanjay - 8/5 at 7pm <br>\n",
    "Previously Updated by: blank <br>"
   ]
  },
  {
   "cell_type": "code",
   "execution_count": 1,
   "id": "98d707ff",
   "metadata": {},
   "outputs": [],
   "source": [
    "import numpy as np\n",
    "import pandas as pd\n",
    "import matplotlib as mpl \n",
    "import matplotlib.pyplot as plt \n",
    "import seaborn as sns\n",
    "import scipy\n",
    "from sklearn.linear_model import LinearRegression"
   ]
  },
  {
   "cell_type": "markdown",
   "id": "3af3ba02",
   "metadata": {},
   "source": [
    "##### Module: File Import<br>\n",
    "Purpose: To import the data file, Dataset 2, provided in the Final Project instructions<br>\n",
    "Last Updated by Sanjay - 8/5 at 7pm <br>\n",
    "Previously Updated by: blank <br>"
   ]
  },
  {
   "cell_type": "code",
   "execution_count": 2,
   "id": "cf5bf965",
   "metadata": {},
   "outputs": [
    {
     "data": {
      "text/plain": [
       "(21613, 21)"
      ]
     },
     "execution_count": 2,
     "metadata": {},
     "output_type": "execute_result"
    }
   ],
   "source": [
    "## Use Pandas read function\n",
    "## Remember to change filepath to your machine\n",
    "house_df = pd.read_csv('/Users/sanjayregiphilip/OneDrive/DS/ADS_500B/Final Project/house_sales.csv', header = 0)\n",
    "\n",
    "#make sure file was read properly\n",
    "house_df.head()\n",
    "house_df.shape"
   ]
  },
  {
   "cell_type": "markdown",
   "id": "4fb037ff",
   "metadata": {},
   "source": [
    "### Data PreProcessing"
   ]
  },
  {
   "cell_type": "markdown",
   "id": "05f7fa0e",
   "metadata": {},
   "source": [
    "##### Dataset and information regarding each notation <br>\n",
    "\n",
    "This dataset contains house sale prices for King County, which includes Seattle. <br>\n",
    "\n",
    "It includes homes sold between May 2014 and May 2015. <br>\n",
    "\n",
    "##### Description of variables: <br>\n",
    "\n",
    "id: a notation for a house <br>\n",
    "date: Date house was sold <br>\n",
    "price: Price is prediction target <br>\n",
    "bedrooms: Number of Bedrooms/House <br>\n",
    "bathrooms: Number of bathrooms/bedrooms <br>\n",
    "sqft_living: square footage of the home <br>\n",
    "sqft_lot: square footage of the lot <br>\n",
    "floors: Total floors (levels) in house <br>\n",
    "waterfront: House which has a view to a waterfront <br>\n",
    "view: Has been viewed <br>\n",
    "condition: How good the condition is Overall <br>\n",
    "grade: overall grade given to the housing unit, based on King County grading system <br>\n",
    "sqft_above: square footage of house apart from basement <br>\n",
    "sqft_basement: square footage of the basement <br>\n",
    "yr_built: Built Year <br>\n",
    "yr_renovated: Year when house was renovated <br>\n",
    "zipcode: zip code <br>\n",
    "lat: Latitude coordinate <br>\n",
    "long: Longitude coordinate <br>\n",
    "sqft_living15: Living room area in 2015(implies-- some renovations) This might or might not have affected the lotsize area <br>\n",
    "sqft_lot15: lotSize area in 2015(implies-- some renovations) <br>"
   ]
  },
  {
   "cell_type": "markdown",
   "id": "9eec8069",
   "metadata": {},
   "source": [
    "##### Module: Date Processing<br>\n",
    "Purpose: Ensure that the data fields in the dataframe are stored as date fields<br>\n",
    "Last Updated by Sanjay - 8/5 at 7pm <br>\n",
    "Previously Updated by: blank <br>"
   ]
  },
  {
   "cell_type": "code",
   "execution_count": 3,
   "id": "a3fb86bd",
   "metadata": {},
   "outputs": [
    {
     "data": {
      "text/html": [
       "<div>\n",
       "<style scoped>\n",
       "    .dataframe tbody tr th:only-of-type {\n",
       "        vertical-align: middle;\n",
       "    }\n",
       "\n",
       "    .dataframe tbody tr th {\n",
       "        vertical-align: top;\n",
       "    }\n",
       "\n",
       "    .dataframe thead th {\n",
       "        text-align: right;\n",
       "    }\n",
       "</style>\n",
       "<table border=\"1\" class=\"dataframe\">\n",
       "  <thead>\n",
       "    <tr style=\"text-align: right;\">\n",
       "      <th></th>\n",
       "      <th>id</th>\n",
       "      <th>date</th>\n",
       "      <th>price</th>\n",
       "      <th>bedrooms</th>\n",
       "      <th>bathrooms</th>\n",
       "      <th>sqft_living</th>\n",
       "      <th>sqft_lot</th>\n",
       "      <th>floors</th>\n",
       "      <th>waterfront</th>\n",
       "      <th>view</th>\n",
       "      <th>...</th>\n",
       "      <th>grade</th>\n",
       "      <th>sqft_above</th>\n",
       "      <th>sqft_basement</th>\n",
       "      <th>yr_built</th>\n",
       "      <th>yr_renovated</th>\n",
       "      <th>zipcode</th>\n",
       "      <th>lat</th>\n",
       "      <th>long</th>\n",
       "      <th>sqft_living15</th>\n",
       "      <th>sqft_lot15</th>\n",
       "    </tr>\n",
       "  </thead>\n",
       "  <tbody>\n",
       "    <tr>\n",
       "      <th>0</th>\n",
       "      <td>7129300520</td>\n",
       "      <td>2014-10-13</td>\n",
       "      <td>221900.0</td>\n",
       "      <td>3.0</td>\n",
       "      <td>1.00</td>\n",
       "      <td>1180.0</td>\n",
       "      <td>5650.0</td>\n",
       "      <td>1.0</td>\n",
       "      <td>0</td>\n",
       "      <td>0</td>\n",
       "      <td>...</td>\n",
       "      <td>7</td>\n",
       "      <td>1180</td>\n",
       "      <td>0</td>\n",
       "      <td>1955</td>\n",
       "      <td>0</td>\n",
       "      <td>98178</td>\n",
       "      <td>47.5112</td>\n",
       "      <td>-122.257</td>\n",
       "      <td>1340</td>\n",
       "      <td>5650</td>\n",
       "    </tr>\n",
       "    <tr>\n",
       "      <th>1</th>\n",
       "      <td>6414100192</td>\n",
       "      <td>2014-12-09</td>\n",
       "      <td>538000.0</td>\n",
       "      <td>3.0</td>\n",
       "      <td>2.25</td>\n",
       "      <td>2570.0</td>\n",
       "      <td>7242.0</td>\n",
       "      <td>2.0</td>\n",
       "      <td>0</td>\n",
       "      <td>0</td>\n",
       "      <td>...</td>\n",
       "      <td>7</td>\n",
       "      <td>2170</td>\n",
       "      <td>400</td>\n",
       "      <td>1951</td>\n",
       "      <td>1991</td>\n",
       "      <td>98125</td>\n",
       "      <td>47.7210</td>\n",
       "      <td>-122.319</td>\n",
       "      <td>1690</td>\n",
       "      <td>7639</td>\n",
       "    </tr>\n",
       "    <tr>\n",
       "      <th>2</th>\n",
       "      <td>5631500400</td>\n",
       "      <td>2015-02-25</td>\n",
       "      <td>180000.0</td>\n",
       "      <td>2.0</td>\n",
       "      <td>1.00</td>\n",
       "      <td>770.0</td>\n",
       "      <td>10000.0</td>\n",
       "      <td>1.0</td>\n",
       "      <td>0</td>\n",
       "      <td>0</td>\n",
       "      <td>...</td>\n",
       "      <td>6</td>\n",
       "      <td>770</td>\n",
       "      <td>0</td>\n",
       "      <td>1933</td>\n",
       "      <td>0</td>\n",
       "      <td>98028</td>\n",
       "      <td>47.7379</td>\n",
       "      <td>-122.233</td>\n",
       "      <td>2720</td>\n",
       "      <td>8062</td>\n",
       "    </tr>\n",
       "    <tr>\n",
       "      <th>3</th>\n",
       "      <td>2487200875</td>\n",
       "      <td>2014-12-09</td>\n",
       "      <td>604000.0</td>\n",
       "      <td>4.0</td>\n",
       "      <td>3.00</td>\n",
       "      <td>1960.0</td>\n",
       "      <td>5000.0</td>\n",
       "      <td>1.0</td>\n",
       "      <td>0</td>\n",
       "      <td>0</td>\n",
       "      <td>...</td>\n",
       "      <td>7</td>\n",
       "      <td>1050</td>\n",
       "      <td>910</td>\n",
       "      <td>1965</td>\n",
       "      <td>0</td>\n",
       "      <td>98136</td>\n",
       "      <td>47.5208</td>\n",
       "      <td>-122.393</td>\n",
       "      <td>1360</td>\n",
       "      <td>5000</td>\n",
       "    </tr>\n",
       "    <tr>\n",
       "      <th>4</th>\n",
       "      <td>1954400510</td>\n",
       "      <td>2015-02-18</td>\n",
       "      <td>510000.0</td>\n",
       "      <td>3.0</td>\n",
       "      <td>2.00</td>\n",
       "      <td>1680.0</td>\n",
       "      <td>8080.0</td>\n",
       "      <td>1.0</td>\n",
       "      <td>0</td>\n",
       "      <td>0</td>\n",
       "      <td>...</td>\n",
       "      <td>8</td>\n",
       "      <td>1680</td>\n",
       "      <td>0</td>\n",
       "      <td>1987</td>\n",
       "      <td>0</td>\n",
       "      <td>98074</td>\n",
       "      <td>47.6168</td>\n",
       "      <td>-122.045</td>\n",
       "      <td>1800</td>\n",
       "      <td>7503</td>\n",
       "    </tr>\n",
       "  </tbody>\n",
       "</table>\n",
       "<p>5 rows × 21 columns</p>\n",
       "</div>"
      ],
      "text/plain": [
       "           id       date     price  bedrooms  bathrooms  sqft_living  \\\n",
       "0  7129300520 2014-10-13  221900.0       3.0       1.00       1180.0   \n",
       "1  6414100192 2014-12-09  538000.0       3.0       2.25       2570.0   \n",
       "2  5631500400 2015-02-25  180000.0       2.0       1.00        770.0   \n",
       "3  2487200875 2014-12-09  604000.0       4.0       3.00       1960.0   \n",
       "4  1954400510 2015-02-18  510000.0       3.0       2.00       1680.0   \n",
       "\n",
       "   sqft_lot  floors  waterfront  view  ...  grade  sqft_above  sqft_basement  \\\n",
       "0    5650.0     1.0           0     0  ...      7        1180              0   \n",
       "1    7242.0     2.0           0     0  ...      7        2170            400   \n",
       "2   10000.0     1.0           0     0  ...      6         770              0   \n",
       "3    5000.0     1.0           0     0  ...      7        1050            910   \n",
       "4    8080.0     1.0           0     0  ...      8        1680              0   \n",
       "\n",
       "   yr_built  yr_renovated  zipcode      lat     long  sqft_living15  \\\n",
       "0      1955             0    98178  47.5112 -122.257           1340   \n",
       "1      1951          1991    98125  47.7210 -122.319           1690   \n",
       "2      1933             0    98028  47.7379 -122.233           2720   \n",
       "3      1965             0    98136  47.5208 -122.393           1360   \n",
       "4      1987             0    98074  47.6168 -122.045           1800   \n",
       "\n",
       "   sqft_lot15  \n",
       "0        5650  \n",
       "1        7639  \n",
       "2        8062  \n",
       "3        5000  \n",
       "4        7503  \n",
       "\n",
       "[5 rows x 21 columns]"
      ]
     },
     "execution_count": 3,
     "metadata": {},
     "output_type": "execute_result"
    }
   ],
   "source": [
    "## Fix date column\n",
    "house_df['date'] = pd.to_datetime(house_df['date'])\n",
    "\n",
    "## check\n",
    "house_df.head()"
   ]
  },
  {
   "cell_type": "markdown",
   "id": "c8ab138c",
   "metadata": {},
   "source": [
    "#### Module: Find and Remove Outliers\n",
    "Purpose: Remove any outliers\n",
    "Last Updated by Sanjay - 8/9 at 11am\n",
    "Previously Updated by: blank "
   ]
  },
  {
   "cell_type": "code",
   "execution_count": 4,
   "id": "189fb866",
   "metadata": {},
   "outputs": [
    {
     "data": {
      "text/html": [
       "<div>\n",
       "<style scoped>\n",
       "    .dataframe tbody tr th:only-of-type {\n",
       "        vertical-align: middle;\n",
       "    }\n",
       "\n",
       "    .dataframe tbody tr th {\n",
       "        vertical-align: top;\n",
       "    }\n",
       "\n",
       "    .dataframe thead th {\n",
       "        text-align: right;\n",
       "    }\n",
       "</style>\n",
       "<table border=\"1\" class=\"dataframe\">\n",
       "  <thead>\n",
       "    <tr style=\"text-align: right;\">\n",
       "      <th></th>\n",
       "      <th>id</th>\n",
       "      <th>price</th>\n",
       "      <th>bedrooms</th>\n",
       "      <th>bathrooms</th>\n",
       "      <th>sqft_living</th>\n",
       "      <th>sqft_lot</th>\n",
       "      <th>floors</th>\n",
       "      <th>waterfront</th>\n",
       "      <th>view</th>\n",
       "      <th>condition</th>\n",
       "      <th>grade</th>\n",
       "      <th>sqft_above</th>\n",
       "      <th>sqft_basement</th>\n",
       "      <th>yr_built</th>\n",
       "      <th>yr_renovated</th>\n",
       "      <th>zipcode</th>\n",
       "      <th>lat</th>\n",
       "      <th>long</th>\n",
       "      <th>sqft_living15</th>\n",
       "      <th>sqft_lot15</th>\n",
       "    </tr>\n",
       "  </thead>\n",
       "  <tbody>\n",
       "    <tr>\n",
       "      <th>count</th>\n",
       "      <td>2.161300e+04</td>\n",
       "      <td>2.161300e+04</td>\n",
       "      <td>20479.000000</td>\n",
       "      <td>20545.000000</td>\n",
       "      <td>20503.000000</td>\n",
       "      <td>2.056900e+04</td>\n",
       "      <td>21613.000000</td>\n",
       "      <td>21613.000000</td>\n",
       "      <td>21613.000000</td>\n",
       "      <td>21613.000000</td>\n",
       "      <td>21613.000000</td>\n",
       "      <td>21613.000000</td>\n",
       "      <td>21613.000000</td>\n",
       "      <td>21613.000000</td>\n",
       "      <td>21613.000000</td>\n",
       "      <td>21613.000000</td>\n",
       "      <td>21613.000000</td>\n",
       "      <td>21613.000000</td>\n",
       "      <td>21613.000000</td>\n",
       "      <td>21613.000000</td>\n",
       "    </tr>\n",
       "    <tr>\n",
       "      <th>mean</th>\n",
       "      <td>4.580302e+09</td>\n",
       "      <td>5.400881e+05</td>\n",
       "      <td>3.372821</td>\n",
       "      <td>2.113507</td>\n",
       "      <td>2081.073697</td>\n",
       "      <td>1.517982e+04</td>\n",
       "      <td>1.494309</td>\n",
       "      <td>0.007542</td>\n",
       "      <td>0.234303</td>\n",
       "      <td>3.409430</td>\n",
       "      <td>7.656873</td>\n",
       "      <td>1788.390691</td>\n",
       "      <td>291.509045</td>\n",
       "      <td>1971.005136</td>\n",
       "      <td>84.402258</td>\n",
       "      <td>98077.939805</td>\n",
       "      <td>47.560053</td>\n",
       "      <td>-122.213896</td>\n",
       "      <td>1986.552492</td>\n",
       "      <td>12768.455652</td>\n",
       "    </tr>\n",
       "    <tr>\n",
       "      <th>std</th>\n",
       "      <td>2.876566e+09</td>\n",
       "      <td>3.671272e+05</td>\n",
       "      <td>0.930711</td>\n",
       "      <td>0.768913</td>\n",
       "      <td>915.043176</td>\n",
       "      <td>4.148617e+04</td>\n",
       "      <td>0.539989</td>\n",
       "      <td>0.086517</td>\n",
       "      <td>0.766318</td>\n",
       "      <td>0.650743</td>\n",
       "      <td>1.175459</td>\n",
       "      <td>828.090978</td>\n",
       "      <td>442.575043</td>\n",
       "      <td>29.373411</td>\n",
       "      <td>401.679240</td>\n",
       "      <td>53.505026</td>\n",
       "      <td>0.138564</td>\n",
       "      <td>0.140828</td>\n",
       "      <td>685.391304</td>\n",
       "      <td>27304.179631</td>\n",
       "    </tr>\n",
       "    <tr>\n",
       "      <th>min</th>\n",
       "      <td>1.000102e+06</td>\n",
       "      <td>7.500000e+04</td>\n",
       "      <td>0.000000</td>\n",
       "      <td>0.000000</td>\n",
       "      <td>290.000000</td>\n",
       "      <td>5.200000e+02</td>\n",
       "      <td>1.000000</td>\n",
       "      <td>0.000000</td>\n",
       "      <td>0.000000</td>\n",
       "      <td>1.000000</td>\n",
       "      <td>1.000000</td>\n",
       "      <td>290.000000</td>\n",
       "      <td>0.000000</td>\n",
       "      <td>1900.000000</td>\n",
       "      <td>0.000000</td>\n",
       "      <td>98001.000000</td>\n",
       "      <td>47.155900</td>\n",
       "      <td>-122.519000</td>\n",
       "      <td>399.000000</td>\n",
       "      <td>651.000000</td>\n",
       "    </tr>\n",
       "    <tr>\n",
       "      <th>25%</th>\n",
       "      <td>2.123049e+09</td>\n",
       "      <td>3.219500e+05</td>\n",
       "      <td>3.000000</td>\n",
       "      <td>1.500000</td>\n",
       "      <td>1430.000000</td>\n",
       "      <td>5.040000e+03</td>\n",
       "      <td>1.000000</td>\n",
       "      <td>0.000000</td>\n",
       "      <td>0.000000</td>\n",
       "      <td>3.000000</td>\n",
       "      <td>7.000000</td>\n",
       "      <td>1190.000000</td>\n",
       "      <td>0.000000</td>\n",
       "      <td>1951.000000</td>\n",
       "      <td>0.000000</td>\n",
       "      <td>98033.000000</td>\n",
       "      <td>47.471000</td>\n",
       "      <td>-122.328000</td>\n",
       "      <td>1490.000000</td>\n",
       "      <td>5100.000000</td>\n",
       "    </tr>\n",
       "    <tr>\n",
       "      <th>50%</th>\n",
       "      <td>3.904930e+09</td>\n",
       "      <td>4.500000e+05</td>\n",
       "      <td>3.000000</td>\n",
       "      <td>2.250000</td>\n",
       "      <td>1920.000000</td>\n",
       "      <td>7.620000e+03</td>\n",
       "      <td>1.500000</td>\n",
       "      <td>0.000000</td>\n",
       "      <td>0.000000</td>\n",
       "      <td>3.000000</td>\n",
       "      <td>7.000000</td>\n",
       "      <td>1560.000000</td>\n",
       "      <td>0.000000</td>\n",
       "      <td>1975.000000</td>\n",
       "      <td>0.000000</td>\n",
       "      <td>98065.000000</td>\n",
       "      <td>47.571800</td>\n",
       "      <td>-122.230000</td>\n",
       "      <td>1840.000000</td>\n",
       "      <td>7620.000000</td>\n",
       "    </tr>\n",
       "    <tr>\n",
       "      <th>75%</th>\n",
       "      <td>7.308900e+09</td>\n",
       "      <td>6.450000e+05</td>\n",
       "      <td>4.000000</td>\n",
       "      <td>2.500000</td>\n",
       "      <td>2550.000000</td>\n",
       "      <td>1.070800e+04</td>\n",
       "      <td>2.000000</td>\n",
       "      <td>0.000000</td>\n",
       "      <td>0.000000</td>\n",
       "      <td>4.000000</td>\n",
       "      <td>8.000000</td>\n",
       "      <td>2210.000000</td>\n",
       "      <td>560.000000</td>\n",
       "      <td>1997.000000</td>\n",
       "      <td>0.000000</td>\n",
       "      <td>98118.000000</td>\n",
       "      <td>47.678000</td>\n",
       "      <td>-122.125000</td>\n",
       "      <td>2360.000000</td>\n",
       "      <td>10083.000000</td>\n",
       "    </tr>\n",
       "    <tr>\n",
       "      <th>max</th>\n",
       "      <td>9.900000e+09</td>\n",
       "      <td>7.700000e+06</td>\n",
       "      <td>33.000000</td>\n",
       "      <td>8.000000</td>\n",
       "      <td>12050.000000</td>\n",
       "      <td>1.651359e+06</td>\n",
       "      <td>3.500000</td>\n",
       "      <td>1.000000</td>\n",
       "      <td>4.000000</td>\n",
       "      <td>5.000000</td>\n",
       "      <td>13.000000</td>\n",
       "      <td>9410.000000</td>\n",
       "      <td>4820.000000</td>\n",
       "      <td>2015.000000</td>\n",
       "      <td>2015.000000</td>\n",
       "      <td>98199.000000</td>\n",
       "      <td>47.777600</td>\n",
       "      <td>-121.315000</td>\n",
       "      <td>6210.000000</td>\n",
       "      <td>871200.000000</td>\n",
       "    </tr>\n",
       "  </tbody>\n",
       "</table>\n",
       "</div>"
      ],
      "text/plain": [
       "                 id         price      bedrooms     bathrooms   sqft_living  \\\n",
       "count  2.161300e+04  2.161300e+04  20479.000000  20545.000000  20503.000000   \n",
       "mean   4.580302e+09  5.400881e+05      3.372821      2.113507   2081.073697   \n",
       "std    2.876566e+09  3.671272e+05      0.930711      0.768913    915.043176   \n",
       "min    1.000102e+06  7.500000e+04      0.000000      0.000000    290.000000   \n",
       "25%    2.123049e+09  3.219500e+05      3.000000      1.500000   1430.000000   \n",
       "50%    3.904930e+09  4.500000e+05      3.000000      2.250000   1920.000000   \n",
       "75%    7.308900e+09  6.450000e+05      4.000000      2.500000   2550.000000   \n",
       "max    9.900000e+09  7.700000e+06     33.000000      8.000000  12050.000000   \n",
       "\n",
       "           sqft_lot        floors    waterfront          view     condition  \\\n",
       "count  2.056900e+04  21613.000000  21613.000000  21613.000000  21613.000000   \n",
       "mean   1.517982e+04      1.494309      0.007542      0.234303      3.409430   \n",
       "std    4.148617e+04      0.539989      0.086517      0.766318      0.650743   \n",
       "min    5.200000e+02      1.000000      0.000000      0.000000      1.000000   \n",
       "25%    5.040000e+03      1.000000      0.000000      0.000000      3.000000   \n",
       "50%    7.620000e+03      1.500000      0.000000      0.000000      3.000000   \n",
       "75%    1.070800e+04      2.000000      0.000000      0.000000      4.000000   \n",
       "max    1.651359e+06      3.500000      1.000000      4.000000      5.000000   \n",
       "\n",
       "              grade    sqft_above  sqft_basement      yr_built  yr_renovated  \\\n",
       "count  21613.000000  21613.000000   21613.000000  21613.000000  21613.000000   \n",
       "mean       7.656873   1788.390691     291.509045   1971.005136     84.402258   \n",
       "std        1.175459    828.090978     442.575043     29.373411    401.679240   \n",
       "min        1.000000    290.000000       0.000000   1900.000000      0.000000   \n",
       "25%        7.000000   1190.000000       0.000000   1951.000000      0.000000   \n",
       "50%        7.000000   1560.000000       0.000000   1975.000000      0.000000   \n",
       "75%        8.000000   2210.000000     560.000000   1997.000000      0.000000   \n",
       "max       13.000000   9410.000000    4820.000000   2015.000000   2015.000000   \n",
       "\n",
       "            zipcode           lat          long  sqft_living15     sqft_lot15  \n",
       "count  21613.000000  21613.000000  21613.000000   21613.000000   21613.000000  \n",
       "mean   98077.939805     47.560053   -122.213896    1986.552492   12768.455652  \n",
       "std       53.505026      0.138564      0.140828     685.391304   27304.179631  \n",
       "min    98001.000000     47.155900   -122.519000     399.000000     651.000000  \n",
       "25%    98033.000000     47.471000   -122.328000    1490.000000    5100.000000  \n",
       "50%    98065.000000     47.571800   -122.230000    1840.000000    7620.000000  \n",
       "75%    98118.000000     47.678000   -122.125000    2360.000000   10083.000000  \n",
       "max    98199.000000     47.777600   -121.315000    6210.000000  871200.000000  "
      ]
     },
     "execution_count": 4,
     "metadata": {},
     "output_type": "execute_result"
    }
   ],
   "source": [
    "house_df.describe()"
   ]
  },
  {
   "cell_type": "markdown",
   "id": "460ebc76",
   "metadata": {},
   "source": [
    "Find outliers for key fields"
   ]
  },
  {
   "cell_type": "code",
   "execution_count": 5,
   "id": "639f596f",
   "metadata": {
    "scrolled": true
   },
   "outputs": [],
   "source": [
    "price_outliers = house_df[house_df['price'] > house_df['price'].mean() + 3 * house_df['price'].std()]\n",
    "bedrooms_outliers = house_df[house_df['bedrooms'] > house_df['bedrooms'].mean() + 3 * house_df['bedrooms'].std()]\n",
    "bathrooms_outliers = house_df[house_df['bathrooms'] > house_df['bathrooms'].mean() + 3 * house_df['bathrooms'].std()]\n",
    "sqftliving_outliers = house_df[house_df['sqft_living'] > house_df['sqft_living'].mean() + 3 * house_df['sqft_living'].std()]\n",
    "sqftlot_outliers = house_df[house_df['sqft_lot'] > house_df['sqft_lot'].mean() + 3 * house_df['sqft_lot'].std()]\n",
    "sqft_living15_outliers = house_df[house_df['sqft_living15'] > house_df['sqft_living15'].mean() + 3 * house_df['sqft_living15'].std()]\n",
    "sqft_lot15_outliers = house_df[house_df['sqft_lot15'] > house_df['sqft_lot15'].mean() + 3 * house_df['sqft_lot15'].std()]"
   ]
  },
  {
   "cell_type": "code",
   "execution_count": 6,
   "id": "d36ada2b",
   "metadata": {},
   "outputs": [],
   "source": [
    "house_df.drop(house_df[(house_df['price'] > house_df['price'].mean() + 3 * house_df['price'].std())].index, inplace=True)"
   ]
  },
  {
   "cell_type": "code",
   "execution_count": 7,
   "id": "5eeca0b6",
   "metadata": {},
   "outputs": [
    {
     "data": {
      "text/plain": [
       "(21207, 21)"
      ]
     },
     "execution_count": 7,
     "metadata": {},
     "output_type": "execute_result"
    }
   ],
   "source": [
    "house_df.shape"
   ]
  },
  {
   "cell_type": "code",
   "execution_count": 8,
   "id": "5a5f3b40",
   "metadata": {},
   "outputs": [],
   "source": [
    "house_df.drop(house_df[(house_df['bedrooms'] > house_df['bedrooms'].mean() + 3 * house_df['bedrooms'].std())].index, inplace=True)"
   ]
  },
  {
   "cell_type": "code",
   "execution_count": 9,
   "id": "b840ab4b",
   "metadata": {},
   "outputs": [
    {
     "data": {
      "text/plain": [
       "(21161, 21)"
      ]
     },
     "execution_count": 9,
     "metadata": {},
     "output_type": "execute_result"
    }
   ],
   "source": [
    "house_df.shape"
   ]
  },
  {
   "cell_type": "code",
   "execution_count": 10,
   "id": "744b069a",
   "metadata": {},
   "outputs": [],
   "source": [
    "house_df.drop(house_df[(house_df['bathrooms'] > house_df['bathrooms'].mean() + 3 * house_df['bathrooms'].std())].index, inplace=True)"
   ]
  },
  {
   "cell_type": "code",
   "execution_count": 11,
   "id": "3515f19b",
   "metadata": {},
   "outputs": [
    {
     "data": {
      "text/plain": [
       "(21068, 21)"
      ]
     },
     "execution_count": 11,
     "metadata": {},
     "output_type": "execute_result"
    }
   ],
   "source": [
    "house_df.shape"
   ]
  },
  {
   "cell_type": "code",
   "execution_count": 12,
   "id": "56e344dc",
   "metadata": {},
   "outputs": [],
   "source": [
    "house_df.drop(house_df[(house_df['sqft_living'] > house_df['sqft_living'].mean() + 3 * house_df['sqft_living'].std())].index, inplace=True)"
   ]
  },
  {
   "cell_type": "code",
   "execution_count": 13,
   "id": "28236c12",
   "metadata": {},
   "outputs": [
    {
     "data": {
      "text/plain": [
       "(20907, 21)"
      ]
     },
     "execution_count": 13,
     "metadata": {},
     "output_type": "execute_result"
    }
   ],
   "source": [
    "house_df.shape"
   ]
  },
  {
   "cell_type": "code",
   "execution_count": 14,
   "id": "9928a676",
   "metadata": {},
   "outputs": [],
   "source": [
    "house_df.drop(house_df[(house_df['sqft_lot'] > house_df['sqft_lot'].mean() + 3 * house_df['sqft_lot'].std())].index, inplace=True)"
   ]
  },
  {
   "cell_type": "code",
   "execution_count": 15,
   "id": "df969aa3",
   "metadata": {},
   "outputs": [
    {
     "data": {
      "text/plain": [
       "(20596, 21)"
      ]
     },
     "execution_count": 15,
     "metadata": {},
     "output_type": "execute_result"
    }
   ],
   "source": [
    "house_df.shape"
   ]
  },
  {
   "cell_type": "code",
   "execution_count": 16,
   "id": "43287f7b",
   "metadata": {},
   "outputs": [],
   "source": [
    "house_df.drop(house_df[(house_df['sqft_living15'] > house_df['sqft_living15'].mean() + 3 * house_df['sqft_living15'].std())].index, inplace=True)"
   ]
  },
  {
   "cell_type": "code",
   "execution_count": 17,
   "id": "f644e64b",
   "metadata": {},
   "outputs": [
    {
     "data": {
      "text/plain": [
       "(20416, 21)"
      ]
     },
     "execution_count": 17,
     "metadata": {},
     "output_type": "execute_result"
    }
   ],
   "source": [
    "house_df.shape"
   ]
  },
  {
   "cell_type": "code",
   "execution_count": 18,
   "id": "5d2d417b",
   "metadata": {},
   "outputs": [],
   "source": [
    "house_df.drop(house_df[(house_df['sqft_lot15'] > house_df['sqft_lot15'].mean() + 3 * house_df['sqft_lot15'].std())].index, inplace=True)"
   ]
  },
  {
   "cell_type": "code",
   "execution_count": 19,
   "id": "70e590b5",
   "metadata": {},
   "outputs": [
    {
     "data": {
      "text/plain": [
       "(20157, 21)"
      ]
     },
     "execution_count": 19,
     "metadata": {},
     "output_type": "execute_result"
    }
   ],
   "source": [
    "house_df.shape"
   ]
  },
  {
   "cell_type": "code",
   "execution_count": 20,
   "id": "ddc66b53",
   "metadata": {},
   "outputs": [
    {
     "data": {
      "text/plain": [
       "1456"
      ]
     },
     "execution_count": 20,
     "metadata": {},
     "output_type": "execute_result"
    }
   ],
   "source": [
    "# After deleting outliers, 1456 rows were removed\n",
    "21613 - 20157"
   ]
  },
  {
   "cell_type": "markdown",
   "id": "a2efbe84",
   "metadata": {},
   "source": [
    "##### Module: Remove Duplicate Records<br>\n",
    "Purpose: Delete any possible duplicate records<br>\n",
    "Last Updated by Sanjay - 8/9 at 7pm <br>\n",
    "Previously Updated by: blank <br>"
   ]
  },
  {
   "cell_type": "code",
   "execution_count": 21,
   "id": "e12dff99",
   "metadata": {},
   "outputs": [
    {
     "data": {
      "text/plain": [
       "0"
      ]
     },
     "execution_count": 21,
     "metadata": {},
     "output_type": "execute_result"
    }
   ],
   "source": [
    "house_df.duplicated(subset=None, keep='first').sum()"
   ]
  },
  {
   "cell_type": "markdown",
   "id": "b75a589e",
   "metadata": {},
   "source": [
    "##### Module: Identify Missing Data Values<br>\n",
    "Purpose: Identify the number of Values Missing from Each Column for Data Imputation<br>\n",
    "Last Updated by Sanjay - 8/5 at 7pm <br>\n",
    "Previously Updated by: blank <br>"
   ]
  },
  {
   "cell_type": "code",
   "execution_count": 22,
   "id": "44797052",
   "metadata": {
    "scrolled": true
   },
   "outputs": [
    {
     "data": {
      "text/plain": [
       "id                  0\n",
       "date                0\n",
       "price               0\n",
       "bedrooms         1054\n",
       "bathrooms        1002\n",
       "sqft_living      1027\n",
       "sqft_lot          992\n",
       "floors              0\n",
       "waterfront          0\n",
       "view                0\n",
       "condition           0\n",
       "grade               0\n",
       "sqft_above          0\n",
       "sqft_basement       0\n",
       "yr_built            0\n",
       "yr_renovated        0\n",
       "zipcode             0\n",
       "lat                 0\n",
       "long                0\n",
       "sqft_living15       0\n",
       "sqft_lot15          0\n",
       "dtype: int64"
      ]
     },
     "execution_count": 22,
     "metadata": {},
     "output_type": "execute_result"
    }
   ],
   "source": [
    "#find fields with missing values\n",
    "\n",
    "house_df.isnull().sum()"
   ]
  },
  {
   "cell_type": "markdown",
   "id": "bb4acefa",
   "metadata": {},
   "source": [
    "##### Module: Predict Missing Values in Data<br>\n",
    "Purpose: Use Linear Regression to Fill in the Missing Values in the Data<br>\n",
    "Last Updated by Sanjay - 8/5 at 7pm <br>\n",
    "Previously Updated by: blank <br>"
   ]
  },
  {
   "cell_type": "code",
   "execution_count": 23,
   "id": "e38fc31e",
   "metadata": {
    "scrolled": true
   },
   "outputs": [
    {
     "name": "stderr",
     "output_type": "stream",
     "text": [
      "/var/folders/s6/5rzdndv95rd5zjclx1k9v1qw0000gn/T/ipykernel_2526/1615738196.py:2: FutureWarning: DataFrame.mean and DataFrame.median with numeric_only=None will include datetime64 and datetime64tz columns in a future version.\n",
      "  house_median = house_df_imp.median()\n"
     ]
    }
   ],
   "source": [
    "house_df_imp = house_df\n",
    "house_median = house_df_imp.median()"
   ]
  },
  {
   "cell_type": "code",
   "execution_count": 24,
   "id": "6b9db113",
   "metadata": {},
   "outputs": [],
   "source": [
    "house_df_imp = house_df_imp.fillna(value=house_median)"
   ]
  },
  {
   "cell_type": "code",
   "execution_count": 25,
   "id": "c297982c",
   "metadata": {},
   "outputs": [],
   "source": [
    "# create variables to conduct regression to find bedrooms based off of square footage\n",
    "\n",
    "xsqft = np.array(house_df_imp['sqft_living']).reshape((-1, 1))\n",
    "ybedrooms = np.array(house_df_imp['bedrooms'])\n",
    "\n",
    " \n",
    "# create variables to conduct regression to find bathrooms based off of square footage\n",
    "\n",
    "ybathrooms = np.array(house_df_imp['bathrooms'])\n",
    "\n",
    "\n",
    "# create variables to conduct regression to find sqft_lot based off of square footage\n",
    "\n",
    "ysqftlot = np.array(house_df_imp['sqft_lot'])\n",
    "\n",
    "\n",
    "# create variables to conduct regression to find sqft_lot based off of square footage\n",
    "\n",
    "xbedrooms = np.array(house_df_imp['bedrooms']).reshape((-1, 1))\n",
    "ysqftliving = np.array(house_df_imp['sqft_living'])"
   ]
  },
  {
   "cell_type": "code",
   "execution_count": 26,
   "id": "f9bce735",
   "metadata": {
    "scrolled": true
   },
   "outputs": [],
   "source": [
    "# create regression models for where columns where data is missing\n",
    "\n",
    "bedrooms_model = LinearRegression().fit(xsqft, ybedrooms)\n",
    "bathrooms_model = LinearRegression().fit(xsqft, ybathrooms)\n",
    "sqft_lot_model = LinearRegression().fit(xsqft, ysqftlot)\n",
    "sqft_living_model = LinearRegression().fit(xbedrooms, ysqftliving)"
   ]
  },
  {
   "cell_type": "code",
   "execution_count": 27,
   "id": "8c4ff3ca",
   "metadata": {
    "scrolled": true
   },
   "outputs": [],
   "source": [
    "predicted_bedrooms = np.round(bedrooms_model.predict(xsqft), decimals = 0)\n",
    "predicted_bathrooms = np.round(bathrooms_model.predict(xsqft), decimals = 0)\n",
    "predicted_lot = np.round(sqft_lot_model.predict(xsqft), decimals = 0)\n",
    "predicted_living = np.round(bathrooms_model.predict(xbedrooms), decimals = 0)"
   ]
  },
  {
   "cell_type": "code",
   "execution_count": 28,
   "id": "cbc4ed51",
   "metadata": {
    "scrolled": true
   },
   "outputs": [],
   "source": [
    "house_df['predicted_bedrooms'] = predicted_bedrooms\n",
    "house_df['predicted_bathrooms'] = predicted_bathrooms\n",
    "house_df['predicted_lot'] = predicted_lot\n",
    "house_df['predicted_living'] = predicted_living"
   ]
  },
  {
   "cell_type": "code",
   "execution_count": 29,
   "id": "c6e31899",
   "metadata": {},
   "outputs": [
    {
     "data": {
      "text/plain": [
       "id                        0\n",
       "date                      0\n",
       "price                     0\n",
       "bedrooms               1054\n",
       "bathrooms              1002\n",
       "sqft_living            1027\n",
       "sqft_lot                992\n",
       "floors                    0\n",
       "waterfront                0\n",
       "view                      0\n",
       "condition                 0\n",
       "grade                     0\n",
       "sqft_above                0\n",
       "sqft_basement             0\n",
       "yr_built                  0\n",
       "yr_renovated              0\n",
       "zipcode                   0\n",
       "lat                       0\n",
       "long                      0\n",
       "sqft_living15             0\n",
       "sqft_lot15                0\n",
       "predicted_bedrooms        0\n",
       "predicted_bathrooms       0\n",
       "predicted_lot             0\n",
       "predicted_living          0\n",
       "dtype: int64"
      ]
     },
     "execution_count": 29,
     "metadata": {},
     "output_type": "execute_result"
    }
   ],
   "source": [
    "house_df.isnull().sum()"
   ]
  },
  {
   "cell_type": "code",
   "execution_count": 30,
   "id": "53a38b12",
   "metadata": {},
   "outputs": [],
   "source": [
    "house_df['bedrooms'] = house_df['bedrooms'].fillna(value=house_df['predicted_bedrooms'])\n",
    "house_df['bathrooms'] = house_df['bedrooms'].fillna(value=house_df['predicted_bedrooms'])\n",
    "house_df['sqft_living'] = house_df['bedrooms'].fillna(value=house_df['predicted_bedrooms'])\n",
    "house_df['sqft_lot'] = house_df['bedrooms'].fillna(value=house_df['predicted_bedrooms'])"
   ]
  },
  {
   "cell_type": "code",
   "execution_count": 31,
   "id": "3adee557",
   "metadata": {
    "scrolled": true
   },
   "outputs": [
    {
     "data": {
      "text/plain": [
       "id                     0\n",
       "date                   0\n",
       "price                  0\n",
       "bedrooms               0\n",
       "bathrooms              0\n",
       "sqft_living            0\n",
       "sqft_lot               0\n",
       "floors                 0\n",
       "waterfront             0\n",
       "view                   0\n",
       "condition              0\n",
       "grade                  0\n",
       "sqft_above             0\n",
       "sqft_basement          0\n",
       "yr_built               0\n",
       "yr_renovated           0\n",
       "zipcode                0\n",
       "lat                    0\n",
       "long                   0\n",
       "sqft_living15          0\n",
       "sqft_lot15             0\n",
       "predicted_bedrooms     0\n",
       "predicted_bathrooms    0\n",
       "predicted_lot          0\n",
       "predicted_living       0\n",
       "dtype: int64"
      ]
     },
     "execution_count": 31,
     "metadata": {},
     "output_type": "execute_result"
    }
   ],
   "source": [
    "#check results\n",
    "\n",
    "house_df.isnull().sum()"
   ]
  },
  {
   "cell_type": "code",
   "execution_count": 32,
   "id": "a0cf934f",
   "metadata": {
    "scrolled": true
   },
   "outputs": [
    {
     "data": {
      "text/plain": [
       "id                              int64\n",
       "date                   datetime64[ns]\n",
       "price                         float64\n",
       "bedrooms                      float64\n",
       "bathrooms                     float64\n",
       "sqft_living                   float64\n",
       "sqft_lot                      float64\n",
       "floors                        float64\n",
       "waterfront                      int64\n",
       "view                            int64\n",
       "condition                       int64\n",
       "grade                           int64\n",
       "sqft_above                      int64\n",
       "sqft_basement                   int64\n",
       "yr_built                        int64\n",
       "yr_renovated                    int64\n",
       "zipcode                         int64\n",
       "lat                           float64\n",
       "long                          float64\n",
       "sqft_living15                   int64\n",
       "sqft_lot15                      int64\n",
       "predicted_bedrooms            float64\n",
       "predicted_bathrooms           float64\n",
       "predicted_lot                 float64\n",
       "predicted_living              float64\n",
       "dtype: object"
      ]
     },
     "execution_count": 32,
     "metadata": {},
     "output_type": "execute_result"
    }
   ],
   "source": [
    "#check data types of dataframe\n",
    "\n",
    "house_df.dtypes"
   ]
  },
  {
   "cell_type": "code",
   "execution_count": 33,
   "id": "2413ac94",
   "metadata": {},
   "outputs": [
    {
     "data": {
      "text/html": [
       "<div>\n",
       "<style scoped>\n",
       "    .dataframe tbody tr th:only-of-type {\n",
       "        vertical-align: middle;\n",
       "    }\n",
       "\n",
       "    .dataframe tbody tr th {\n",
       "        vertical-align: top;\n",
       "    }\n",
       "\n",
       "    .dataframe thead th {\n",
       "        text-align: right;\n",
       "    }\n",
       "</style>\n",
       "<table border=\"1\" class=\"dataframe\">\n",
       "  <thead>\n",
       "    <tr style=\"text-align: right;\">\n",
       "      <th></th>\n",
       "      <th>id</th>\n",
       "      <th>date</th>\n",
       "      <th>price</th>\n",
       "      <th>bedrooms</th>\n",
       "      <th>bathrooms</th>\n",
       "      <th>sqft_living</th>\n",
       "      <th>sqft_lot</th>\n",
       "      <th>floors</th>\n",
       "      <th>waterfront</th>\n",
       "      <th>view</th>\n",
       "      <th>...</th>\n",
       "      <th>yr_renovated</th>\n",
       "      <th>zipcode</th>\n",
       "      <th>lat</th>\n",
       "      <th>long</th>\n",
       "      <th>sqft_living15</th>\n",
       "      <th>sqft_lot15</th>\n",
       "      <th>predicted_bedrooms</th>\n",
       "      <th>predicted_bathrooms</th>\n",
       "      <th>predicted_lot</th>\n",
       "      <th>predicted_living</th>\n",
       "    </tr>\n",
       "  </thead>\n",
       "  <tbody>\n",
       "    <tr>\n",
       "      <th>0</th>\n",
       "      <td>7129300520</td>\n",
       "      <td>2014-10-13</td>\n",
       "      <td>221900</td>\n",
       "      <td>3</td>\n",
       "      <td>3</td>\n",
       "      <td>3</td>\n",
       "      <td>3</td>\n",
       "      <td>1.0</td>\n",
       "      <td>0</td>\n",
       "      <td>0</td>\n",
       "      <td>...</td>\n",
       "      <td>0</td>\n",
       "      <td>98178</td>\n",
       "      <td>47.5112</td>\n",
       "      <td>-122.257</td>\n",
       "      <td>1340</td>\n",
       "      <td>5650</td>\n",
       "      <td>3.0</td>\n",
       "      <td>2.0</td>\n",
       "      <td>7302.0</td>\n",
       "      <td>1.0</td>\n",
       "    </tr>\n",
       "    <tr>\n",
       "      <th>1</th>\n",
       "      <td>6414100192</td>\n",
       "      <td>2014-12-09</td>\n",
       "      <td>538000</td>\n",
       "      <td>3</td>\n",
       "      <td>3</td>\n",
       "      <td>3</td>\n",
       "      <td>3</td>\n",
       "      <td>2.0</td>\n",
       "      <td>0</td>\n",
       "      <td>0</td>\n",
       "      <td>...</td>\n",
       "      <td>1991</td>\n",
       "      <td>98125</td>\n",
       "      <td>47.7210</td>\n",
       "      <td>-122.319</td>\n",
       "      <td>1690</td>\n",
       "      <td>7639</td>\n",
       "      <td>4.0</td>\n",
       "      <td>2.0</td>\n",
       "      <td>11371.0</td>\n",
       "      <td>1.0</td>\n",
       "    </tr>\n",
       "    <tr>\n",
       "      <th>2</th>\n",
       "      <td>5631500400</td>\n",
       "      <td>2015-02-25</td>\n",
       "      <td>180000</td>\n",
       "      <td>2</td>\n",
       "      <td>2</td>\n",
       "      <td>2</td>\n",
       "      <td>2</td>\n",
       "      <td>1.0</td>\n",
       "      <td>0</td>\n",
       "      <td>0</td>\n",
       "      <td>...</td>\n",
       "      <td>0</td>\n",
       "      <td>98028</td>\n",
       "      <td>47.7379</td>\n",
       "      <td>-122.233</td>\n",
       "      <td>2720</td>\n",
       "      <td>8062</td>\n",
       "      <td>3.0</td>\n",
       "      <td>1.0</td>\n",
       "      <td>6102.0</td>\n",
       "      <td>1.0</td>\n",
       "    </tr>\n",
       "    <tr>\n",
       "      <th>3</th>\n",
       "      <td>2487200875</td>\n",
       "      <td>2014-12-09</td>\n",
       "      <td>604000</td>\n",
       "      <td>4</td>\n",
       "      <td>4</td>\n",
       "      <td>4</td>\n",
       "      <td>4</td>\n",
       "      <td>1.0</td>\n",
       "      <td>0</td>\n",
       "      <td>0</td>\n",
       "      <td>...</td>\n",
       "      <td>0</td>\n",
       "      <td>98136</td>\n",
       "      <td>47.5208</td>\n",
       "      <td>-122.393</td>\n",
       "      <td>1360</td>\n",
       "      <td>5000</td>\n",
       "      <td>3.0</td>\n",
       "      <td>2.0</td>\n",
       "      <td>9586.0</td>\n",
       "      <td>1.0</td>\n",
       "    </tr>\n",
       "    <tr>\n",
       "      <th>4</th>\n",
       "      <td>1954400510</td>\n",
       "      <td>2015-02-18</td>\n",
       "      <td>510000</td>\n",
       "      <td>3</td>\n",
       "      <td>3</td>\n",
       "      <td>3</td>\n",
       "      <td>3</td>\n",
       "      <td>1.0</td>\n",
       "      <td>0</td>\n",
       "      <td>0</td>\n",
       "      <td>...</td>\n",
       "      <td>0</td>\n",
       "      <td>98074</td>\n",
       "      <td>47.6168</td>\n",
       "      <td>-122.045</td>\n",
       "      <td>1800</td>\n",
       "      <td>7503</td>\n",
       "      <td>3.0</td>\n",
       "      <td>2.0</td>\n",
       "      <td>8766.0</td>\n",
       "      <td>1.0</td>\n",
       "    </tr>\n",
       "    <tr>\n",
       "      <th>...</th>\n",
       "      <td>...</td>\n",
       "      <td>...</td>\n",
       "      <td>...</td>\n",
       "      <td>...</td>\n",
       "      <td>...</td>\n",
       "      <td>...</td>\n",
       "      <td>...</td>\n",
       "      <td>...</td>\n",
       "      <td>...</td>\n",
       "      <td>...</td>\n",
       "      <td>...</td>\n",
       "      <td>...</td>\n",
       "      <td>...</td>\n",
       "      <td>...</td>\n",
       "      <td>...</td>\n",
       "      <td>...</td>\n",
       "      <td>...</td>\n",
       "      <td>...</td>\n",
       "      <td>...</td>\n",
       "      <td>...</td>\n",
       "      <td>...</td>\n",
       "    </tr>\n",
       "    <tr>\n",
       "      <th>21608</th>\n",
       "      <td>263000018</td>\n",
       "      <td>2014-05-21</td>\n",
       "      <td>360000</td>\n",
       "      <td>3</td>\n",
       "      <td>3</td>\n",
       "      <td>3</td>\n",
       "      <td>3</td>\n",
       "      <td>3.0</td>\n",
       "      <td>0</td>\n",
       "      <td>0</td>\n",
       "      <td>...</td>\n",
       "      <td>0</td>\n",
       "      <td>98103</td>\n",
       "      <td>47.6993</td>\n",
       "      <td>-122.346</td>\n",
       "      <td>1530</td>\n",
       "      <td>1509</td>\n",
       "      <td>3.0</td>\n",
       "      <td>2.0</td>\n",
       "      <td>8327.0</td>\n",
       "      <td>1.0</td>\n",
       "    </tr>\n",
       "    <tr>\n",
       "      <th>21609</th>\n",
       "      <td>6600060120</td>\n",
       "      <td>2015-02-23</td>\n",
       "      <td>400000</td>\n",
       "      <td>4</td>\n",
       "      <td>4</td>\n",
       "      <td>4</td>\n",
       "      <td>4</td>\n",
       "      <td>2.0</td>\n",
       "      <td>0</td>\n",
       "      <td>0</td>\n",
       "      <td>...</td>\n",
       "      <td>0</td>\n",
       "      <td>98146</td>\n",
       "      <td>47.5107</td>\n",
       "      <td>-122.362</td>\n",
       "      <td>1830</td>\n",
       "      <td>7200</td>\n",
       "      <td>4.0</td>\n",
       "      <td>2.0</td>\n",
       "      <td>10610.0</td>\n",
       "      <td>1.0</td>\n",
       "    </tr>\n",
       "    <tr>\n",
       "      <th>21610</th>\n",
       "      <td>1523300141</td>\n",
       "      <td>2014-06-23</td>\n",
       "      <td>402101</td>\n",
       "      <td>2</td>\n",
       "      <td>2</td>\n",
       "      <td>2</td>\n",
       "      <td>2</td>\n",
       "      <td>2.0</td>\n",
       "      <td>0</td>\n",
       "      <td>0</td>\n",
       "      <td>...</td>\n",
       "      <td>0</td>\n",
       "      <td>98144</td>\n",
       "      <td>47.5944</td>\n",
       "      <td>-122.299</td>\n",
       "      <td>1020</td>\n",
       "      <td>2007</td>\n",
       "      <td>3.0</td>\n",
       "      <td>1.0</td>\n",
       "      <td>6834.0</td>\n",
       "      <td>1.0</td>\n",
       "    </tr>\n",
       "    <tr>\n",
       "      <th>21611</th>\n",
       "      <td>291310100</td>\n",
       "      <td>2015-01-16</td>\n",
       "      <td>400000</td>\n",
       "      <td>3</td>\n",
       "      <td>3</td>\n",
       "      <td>3</td>\n",
       "      <td>3</td>\n",
       "      <td>2.0</td>\n",
       "      <td>0</td>\n",
       "      <td>0</td>\n",
       "      <td>...</td>\n",
       "      <td>0</td>\n",
       "      <td>98027</td>\n",
       "      <td>47.5345</td>\n",
       "      <td>-122.069</td>\n",
       "      <td>1410</td>\n",
       "      <td>1287</td>\n",
       "      <td>3.0</td>\n",
       "      <td>2.0</td>\n",
       "      <td>8532.0</td>\n",
       "      <td>1.0</td>\n",
       "    </tr>\n",
       "    <tr>\n",
       "      <th>21612</th>\n",
       "      <td>1523300157</td>\n",
       "      <td>2014-10-15</td>\n",
       "      <td>325000</td>\n",
       "      <td>2</td>\n",
       "      <td>2</td>\n",
       "      <td>2</td>\n",
       "      <td>2</td>\n",
       "      <td>2.0</td>\n",
       "      <td>0</td>\n",
       "      <td>0</td>\n",
       "      <td>...</td>\n",
       "      <td>0</td>\n",
       "      <td>98144</td>\n",
       "      <td>47.5941</td>\n",
       "      <td>-122.299</td>\n",
       "      <td>1020</td>\n",
       "      <td>1357</td>\n",
       "      <td>3.0</td>\n",
       "      <td>1.0</td>\n",
       "      <td>6834.0</td>\n",
       "      <td>1.0</td>\n",
       "    </tr>\n",
       "  </tbody>\n",
       "</table>\n",
       "<p>20157 rows × 25 columns</p>\n",
       "</div>"
      ],
      "text/plain": [
       "               id       date   price  bedrooms  bathrooms  sqft_living  \\\n",
       "0      7129300520 2014-10-13  221900         3          3            3   \n",
       "1      6414100192 2014-12-09  538000         3          3            3   \n",
       "2      5631500400 2015-02-25  180000         2          2            2   \n",
       "3      2487200875 2014-12-09  604000         4          4            4   \n",
       "4      1954400510 2015-02-18  510000         3          3            3   \n",
       "...           ...        ...     ...       ...        ...          ...   \n",
       "21608   263000018 2014-05-21  360000         3          3            3   \n",
       "21609  6600060120 2015-02-23  400000         4          4            4   \n",
       "21610  1523300141 2014-06-23  402101         2          2            2   \n",
       "21611   291310100 2015-01-16  400000         3          3            3   \n",
       "21612  1523300157 2014-10-15  325000         2          2            2   \n",
       "\n",
       "       sqft_lot  floors  waterfront  view  ...  yr_renovated  zipcode  \\\n",
       "0             3     1.0           0     0  ...             0    98178   \n",
       "1             3     2.0           0     0  ...          1991    98125   \n",
       "2             2     1.0           0     0  ...             0    98028   \n",
       "3             4     1.0           0     0  ...             0    98136   \n",
       "4             3     1.0           0     0  ...             0    98074   \n",
       "...         ...     ...         ...   ...  ...           ...      ...   \n",
       "21608         3     3.0           0     0  ...             0    98103   \n",
       "21609         4     2.0           0     0  ...             0    98146   \n",
       "21610         2     2.0           0     0  ...             0    98144   \n",
       "21611         3     2.0           0     0  ...             0    98027   \n",
       "21612         2     2.0           0     0  ...             0    98144   \n",
       "\n",
       "           lat     long  sqft_living15  sqft_lot15  predicted_bedrooms  \\\n",
       "0      47.5112 -122.257           1340        5650                 3.0   \n",
       "1      47.7210 -122.319           1690        7639                 4.0   \n",
       "2      47.7379 -122.233           2720        8062                 3.0   \n",
       "3      47.5208 -122.393           1360        5000                 3.0   \n",
       "4      47.6168 -122.045           1800        7503                 3.0   \n",
       "...        ...      ...            ...         ...                 ...   \n",
       "21608  47.6993 -122.346           1530        1509                 3.0   \n",
       "21609  47.5107 -122.362           1830        7200                 4.0   \n",
       "21610  47.5944 -122.299           1020        2007                 3.0   \n",
       "21611  47.5345 -122.069           1410        1287                 3.0   \n",
       "21612  47.5941 -122.299           1020        1357                 3.0   \n",
       "\n",
       "       predicted_bathrooms  predicted_lot  predicted_living  \n",
       "0                      2.0         7302.0               1.0  \n",
       "1                      2.0        11371.0               1.0  \n",
       "2                      1.0         6102.0               1.0  \n",
       "3                      2.0         9586.0               1.0  \n",
       "4                      2.0         8766.0               1.0  \n",
       "...                    ...            ...               ...  \n",
       "21608                  2.0         8327.0               1.0  \n",
       "21609                  2.0        10610.0               1.0  \n",
       "21610                  1.0         6834.0               1.0  \n",
       "21611                  2.0         8532.0               1.0  \n",
       "21612                  1.0         6834.0               1.0  \n",
       "\n",
       "[20157 rows x 25 columns]"
      ]
     },
     "execution_count": 33,
     "metadata": {},
     "output_type": "execute_result"
    }
   ],
   "source": [
    "# adjust data types of imputed values\n",
    "\n",
    "house_df.astype({\"price\": int, \"bedrooms\": int, \"bathrooms\": int, \"sqft_living\": int, \"sqft_lot\": int})"
   ]
  },
  {
   "cell_type": "code",
   "execution_count": 34,
   "id": "11ef68c7",
   "metadata": {},
   "outputs": [],
   "source": [
    "house_df = house_df.drop(columns=['predicted_bedrooms','predicted_bathrooms', 'predicted_lot', 'predicted_living'])"
   ]
  },
  {
   "cell_type": "code",
   "execution_count": 35,
   "id": "ff52df82",
   "metadata": {},
   "outputs": [
    {
     "data": {
      "text/plain": [
       "(20157, 21)"
      ]
     },
     "execution_count": 35,
     "metadata": {},
     "output_type": "execute_result"
    }
   ],
   "source": [
    "house_df.head()\n",
    "house_df.shape"
   ]
  },
  {
   "cell_type": "markdown",
   "id": "73a7ed26",
   "metadata": {},
   "source": [
    "##### Module:  Change Data Types <br>\n",
    "Purpose: Ensure that all data fields are expected type for analysis <br>\n",
    "Last Updated by Sanjay - 8/5 at 7pm<br>\n",
    "Previously Updated by: blank <br>"
   ]
  },
  {
   "cell_type": "code",
   "execution_count": null,
   "id": "e0ad64e1",
   "metadata": {},
   "outputs": [],
   "source": [
    "house_df = house_df.astype({\"id\": str, \"floors\": int, \"lat\": str,\"waterfront\": 'category',\"view\": 'category',\"condition\": 'category', \"grade\": 'category', 'zipcode' : str, 'long' : str })\n",
    "#df = df.astype({\"a\": int, \"b\": complex})"
   ]
  },
  {
   "cell_type": "code",
   "execution_count": null,
   "id": "80247571",
   "metadata": {},
   "outputs": [],
   "source": [
    "house_df.dtypes"
   ]
  },
  {
   "cell_type": "code",
   "execution_count": null,
   "id": "381fdf6d",
   "metadata": {
    "scrolled": true
   },
   "outputs": [],
   "source": [
    "house_df.head()"
   ]
  },
  {
   "cell_type": "markdown",
   "id": "f523a58c",
   "metadata": {},
   "source": [
    "##### Data Analysis and Visualization"
   ]
  },
  {
   "cell_type": "code",
   "execution_count": null,
   "id": "94fd6e17",
   "metadata": {},
   "outputs": [],
   "source": [
    "house_df.boxplot(column = ['price'])"
   ]
  },
  {
   "cell_type": "code",
   "execution_count": null,
   "id": "b05b09e4",
   "metadata": {},
   "outputs": [],
   "source": [
    "house_df.hist(column = ['price'])"
   ]
  },
  {
   "cell_type": "markdown",
   "id": "be45932c",
   "metadata": {},
   "source": [
    "The histogram doesn't show a normal distribution."
   ]
  },
  {
   "cell_type": "code",
   "execution_count": null,
   "id": "c616ae9b",
   "metadata": {},
   "outputs": [],
   "source": [
    "plt.scatter(house_df['price'],house_df['sqft_living'])"
   ]
  },
  {
   "cell_type": "markdown",
   "id": "0114f2d5",
   "metadata": {},
   "source": [
    "The scatterplot between price and sqft_living shows a positive correlation."
   ]
  },
  {
   "cell_type": "code",
   "execution_count": null,
   "id": "27d9fddc",
   "metadata": {},
   "outputs": [],
   "source": [
    "corr_coef = np.corrcoef(house_df['price'],house_df['sqft_living'])\n",
    "corr_coef"
   ]
  },
  {
   "cell_type": "markdown",
   "id": "bb8c160f",
   "metadata": {},
   "source": [
    "The correlation coefficient between house price and the square ft living is 0.68"
   ]
  },
  {
   "cell_type": "code",
   "execution_count": null,
   "id": "8e02522f",
   "metadata": {},
   "outputs": [],
   "source": [
    "plt.scatter(house_df['price'],house_df['bedrooms'])"
   ]
  },
  {
   "cell_type": "code",
   "execution_count": null,
   "id": "9cdca762",
   "metadata": {},
   "outputs": [],
   "source": [
    "houseprice_mean = house_df.groupby('zipcode')['price'].mean()"
   ]
  },
  {
   "cell_type": "code",
   "execution_count": null,
   "id": "a99377e9",
   "metadata": {},
   "outputs": [],
   "source": [
    "houseprice_mean.head()"
   ]
  },
  {
   "cell_type": "code",
   "execution_count": null,
   "id": "eee823b5",
   "metadata": {},
   "outputs": [],
   "source": [
    "my_plot = houseprice_mean.plot(kind = 'bar',figsize = (15,5))"
   ]
  },
  {
   "cell_type": "code",
   "execution_count": null,
   "id": "fc0202c6",
   "metadata": {},
   "outputs": [],
   "source": [
    "houseprice_mean.shape[0]"
   ]
  },
  {
   "cell_type": "code",
   "execution_count": null,
   "id": "3b74c9b2",
   "metadata": {},
   "outputs": [],
   "source": [
    "house_df.head()"
   ]
  },
  {
   "cell_type": "code",
   "execution_count": null,
   "id": "0667a979",
   "metadata": {},
   "outputs": [],
   "source": [
    "house_df1 = house_df.dropna()"
   ]
  },
  {
   "cell_type": "code",
   "execution_count": null,
   "id": "af9d3490",
   "metadata": {},
   "outputs": [],
   "source": [
    "house_df1.shape"
   ]
  },
  {
   "cell_type": "code",
   "execution_count": null,
   "id": "39d69b28",
   "metadata": {},
   "outputs": [],
   "source": [
    "bdm = house_df1['bedrooms']\n",
    "bdmarray = bdm.to_numpy()\n",
    "bdmarray"
   ]
  },
  {
   "cell_type": "code",
   "execution_count": null,
   "id": "af86a1d2",
   "metadata": {},
   "outputs": [],
   "source": [
    "sqftliv = house_df1['sqft_living']\n",
    "sqftlivarray = sqftliv.to_numpy().reshape((-1, 1))\n",
    "sqftlivarray"
   ]
  },
  {
   "cell_type": "code",
   "execution_count": null,
   "id": "594e9d5e",
   "metadata": {},
   "outputs": [],
   "source": [
    "model = LinearRegression().fit(sqftlivarray, bdmarray)"
   ]
  },
  {
   "cell_type": "code",
   "execution_count": null,
   "id": "524a2620",
   "metadata": {},
   "outputs": [],
   "source": [
    "print('coefficient of determination:', model.score(sqftlivarray, bdmarray))"
   ]
  },
  {
   "cell_type": "code",
   "execution_count": null,
   "id": "a1396917",
   "metadata": {},
   "outputs": [],
   "source": [
    "bdm_predict = model.predict(sqftlivarray)\n",
    "print('predicted response:', bdm_predict, sep = '\\n')"
   ]
  },
  {
   "cell_type": "code",
   "execution_count": null,
   "id": "5e94581d",
   "metadata": {
    "scrolled": false
   },
   "outputs": [],
   "source": [
    "#Uses a seaborn heat map based ont the correlation of the house dataframe\n",
    "\n",
    "\n",
    "corr = house_df.corr()\n",
    "\n",
    "ax = sns.heatmap(\n",
    "    corr, \n",
    "    vmin = -1, vmax=1, center=0,\n",
    "    cmap = sns.color_palette(\"viridis\", as_cmap = True),\n",
    "    square = True\n",
    ")\n",
    "ax.set_xticklabels(ax.get_xticklabels(), rotation=45 ,horizontalalignment='right'\n",
    ");"
   ]
  },
  {
   "cell_type": "code",
   "execution_count": null,
   "id": "d5f3618f",
   "metadata": {
    "scrolled": false
   },
   "outputs": [],
   "source": [
    "with sns.plotting_context(\"notebook\", font_scale = 2.5):\n",
    "    g = sns.pairplot(house_df, hue = 'bedrooms', palette = 'tab20', size = 6)\n",
    "    g.set(xticklabels = []);"
   ]
  },
  {
   "cell_type": "code",
   "execution_count": null,
   "id": "7048e928",
   "metadata": {},
   "outputs": [],
   "source": [
    "\n",
    "#Excludes data that do not have much correlation, saves both computing power and prevents overfitting when making a mulitple regression value.\n",
    "\n",
    "with sns.plotting_context(\"notebook\", font_scale = 3):\n",
    "    g = sns.pairplot(house_df[['price', 'sqft_lot', 'sqft_above', 'sqft_living', 'bedrooms', 'bathrooms', 'sqft_living15']], hue = 'bedrooms', palette = 'tab20c', size = 5)\n",
    "    g.set(xticklabels = []);"
   ]
  },
  {
   "cell_type": "code",
   "execution_count": null,
   "id": "b04b17a2",
   "metadata": {},
   "outputs": [],
   "source": [
    "#Defining data to work with. The inputs (regressors, x) and output (predictor,y) should be arrays\n",
    "\n",
    "house_df.drop(['id', 'date', 'lat', 'zipcode', 'long', 'yr_renovated', 'yr_built','waterfront','view'], axis = 1, inplace = True)"
   ]
  },
  {
   "cell_type": "code",
   "execution_count": null,
   "id": "651ef7f7",
   "metadata": {},
   "outputs": [],
   "source": [
    "house_df.columns\n",
    "\n",
    "house_df.head()"
   ]
  },
  {
   "cell_type": "code",
   "execution_count": null,
   "id": "dd3bd279",
   "metadata": {},
   "outputs": [],
   "source": [
    "#check for VIF(Variance inflation factor) to detect multicollinearity in regression analysis. Check between highest correlation with price and sqft living, then check VIF for sqft_living and sqft_above.\n",
    "\n",
    "X = house_df\n",
    "\n",
    "#VIF dataframe\n",
    "#https://www.geeksforgeeks.org/detecting-multicollinearity-with-vif-python/\n",
    "\n",
    "vif_data = pd.DataFrame()\n",
    "vif_data[\"feeature\"] = X.columns\n",
    "vif_data[\"VIF\"] = [variance_inflation_factor(X.values, i)\n",
    "                    for i in range(len(X.columns))]\n",
    "print(vif_data)\n",
    "\n",
    "\n",
    "#The higher the VIF value, would indicate a higher correlation. \n",
    "#As sqft_living and sqft_above are pretty much similar since they \n",
    "#take the same mount of square footage. only difference is that the \n",
    "#sqft_above takes into account the footageof the basement. Research papers\n",
    "#consider a VIF >10 as an indicator of multicollinearity"
   ]
  },
  {
   "cell_type": "code",
   "execution_count": null,
   "id": "ff91d15a",
   "metadata": {},
   "outputs": [],
   "source": [
    "with sns.plotting_context(\"notebook\", font_scale = 3):\n",
    "    g = sns.pairplot(house_df[['price', 'sqft_lot', 'bedrooms', 'sqft_lot15']], hue = 'bedrooms', palette = 'tab20c', size = 5)\n",
    "    g.set(xticklabels = []);"
   ]
  },
  {
   "cell_type": "code",
   "execution_count": null,
   "id": "665d221c",
   "metadata": {},
   "outputs": [],
   "source": [
    "# Preparing X and Y plots for the regression model between price and sqft_lot\n",
    "\n",
    "\n",
    "\n",
    "# create linear regression object\n",
    "regr = LinearRegression()\n",
    "\n",
    "\n",
    "#fit linear regression\n",
    "regr.fit(house_df[['sqft_lot', 'sqft_lot15', 'sqft_basement']], house_df[['price']])\n",
    "\n",
    "\n",
    "#prints intercept of the best fit line\n",
    "print(regr.intercept_)\n",
    "\n",
    "\n",
    "#prints the slope of the best fit line against 'sqft_lot', 'sqft_lot15', 'sqft_basement' against price\n",
    "print(regr.coef_)\n",
    "\n",
    "\n",
    "\n",
    "\n",
    "\n"
   ]
  },
  {
   "cell_type": "code",
   "execution_count": null,
   "id": "d01657f5",
   "metadata": {
    "scrolled": true
   },
   "outputs": [],
   "source": [
    "#imports statsmodels api to find relational R-squared values\n",
    "#Uses the least Squares method and OLS model.\n",
    "import statsmodels.api as sm\n",
    "\n",
    "#Compiles a list of house_df to find the related coefficients between price and the other columns.\n",
    "#sm.add_constant includes the interecept value to help center the value.\n",
    "x = house_df[['sqft_lot', 'sqft_lot15', 'sqft_basement']]\n",
    "y = house_df[['price']]\n",
    "x = sm.add_constant(x)\n",
    "\n",
    "model = sm.OLS(y,x).fit()\n",
    "predictions = model.predict(x)\n",
    "model.summary()"
   ]
  },
  {
   "cell_type": "code",
   "execution_count": null,
   "id": "bb9610d0",
   "metadata": {},
   "outputs": [],
   "source": [
    "#Uses a seaborn heat map based ont the correlation of the house dataframe\n",
    "\n",
    "\n",
    "corr = house_df.corr()\n",
    "\n",
    "ax = sns.heatmap(\n",
    "    corr, \n",
    "    vmin = -1, vmax=1, center=0,\n",
    "    cmap = sns.color_palette(\"viridis\", as_cmap = True),\n",
    "    square = True\n",
    ")\n",
    "ax.set_xticklabels(ax.get_xticklabels(), rotation=45 ,horizontalalignment='right'\n",
    ");\n",
    "\n",
    "with sns.plotting_context(\"notebook\", font_scale = 2.5):\n",
    "    g = sns.pairplot(house_df, hue = 'bedrooms', palette = 'tab20', size = 6)\n",
    "    g.set(xticklabels = []);\n",
    "\n",
    "\n",
    "#Excludes data that do not have much correlation, saves both computing power and prevents overfitting when making a mulitple regression value.\n",
    "\n",
    "with sns.plotting_context(\"notebook\", font_scale = 3):\n",
    "    g = sns.pairplot(house_df[['price', 'sqft_lot', 'sqft_above', 'sqft_living', 'bedrooms', 'bathrooms', 'sqft_living15']], hue = 'bedrooms', palette = 'tab20c', size = 5)\n",
    "    g.set(xticklabels = []);\n",
    "\n",
    "#Defining data to work with. The inputs (regressors, x) and output (predictor,y) should be arrays\n",
    "\n",
    "house_df.drop(['id', 'date', 'lat', 'zipcode', 'long', 'yr_renovated', 'yr_built','waterfront','view'], axis = 1, inplace = True)\n",
    "\n",
    "house_df.columns\n",
    "\n",
    "house_df.head()\n",
    "\n",
    "#check for VIF(Variance inflation factor) to detect multicollinearity in regression analysis. Check between highest correlation with price and sqft living, then check VIF for sqft_living and sqft_above.\n",
    "\n",
    "X = house_df\n",
    "\n",
    "#VIF dataframe\n",
    "#https://www.geeksforgeeks.org/detecting-multicollinearity-with-vif-python/\n",
    "\n",
    "vif_data = pd.DataFrame()\n",
    "vif_data[\"feeature\"] = X.columns\n",
    "vif_data[\"VIF\"] = [variance_inflation_factor(X.values, i)\n",
    "                    for i in range(len(X.columns))]\n",
    "print(vif_data)\n",
    "\n",
    "\n",
    "#The higher the VIF value, would indicate a higher correlation. \n",
    "#As sqft_living and sqft_above are pretty much similar since they \n",
    "#take the same mount of square footage. only difference is that the \n",
    "#sqft_above takes into account the footageof the basement. Research papers\n",
    "#consider a VIF >10 as an indicator of multicollinearity\n",
    "\n",
    "with sns.plotting_context(\"notebook\", font_scale = 3):\n",
    "    g = sns.pairplot(house_df[['price', 'sqft_lot', 'bedrooms', 'sqft_lot15']], hue = 'bedrooms', palette = 'tab20c', size = 5)\n",
    "    g.set(xticklabels = []);\n",
    "\n",
    "# Preparing X and Y plots for the regression model between price and sqft_lot\n",
    "\n",
    "\n",
    "\n",
    "# create linear regression object\n",
    "regr = LinearRegression()\n",
    "\n",
    "\n",
    "#fit linear regression\n",
    "regr.fit(house_df[['sqft_lot', 'sqft_lot15', 'sqft_basement']], house_df[['price']])\n",
    "\n",
    "\n",
    "#prints intercept of the best fit line\n",
    "print(regr.intercept_)\n",
    "\n",
    "\n",
    "#prints the slope of the best fit line against 'sqft_lot', 'sqft_lot15', 'sqft_basement' against price\n",
    "print(regr.coef_)\n",
    "\n",
    "\n",
    "\n",
    "\n",
    "\n",
    "\n",
    "\n",
    "#imports statsmodels api to find relational R-squared values\n",
    "#Uses the least Squares method and OLS model.\n",
    "import statsmodels.api as sm\n",
    "\n",
    "#Compiles a list of house_df to find the related coefficients between price and the other columns.\n",
    "#sm.add_constant includes the interecept value to help center the value.\n",
    "x = house_df[['sqft_lot', 'sqft_lot15', 'sqft_basement']]\n",
    "y = house_df[['price']]\n",
    "x = sm.add_constant(x)\n",
    "\n",
    "model = sm.OLS(y,x).fit()\n",
    "predictions = model.predict(x)\n",
    "model.summary()"
   ]
  }
 ],
 "metadata": {
  "kernelspec": {
   "display_name": "Python 3 (ipykernel)",
   "language": "python",
   "name": "python3"
  },
  "language_info": {
   "codemirror_mode": {
    "name": "ipython",
    "version": 3
   },
   "file_extension": ".py",
   "mimetype": "text/x-python",
   "name": "python",
   "nbconvert_exporter": "python",
   "pygments_lexer": "ipython3",
   "version": "3.9.6"
  }
 },
 "nbformat": 4,
 "nbformat_minor": 5
}
